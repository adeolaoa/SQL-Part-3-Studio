{
    "metadata": {
        "kernelspec": {
            "name": "SQL",
            "display_name": "SQL",
            "language": "sql"
        },
        "language_info": {
            "name": "sql",
            "version": ""
        },
        "extensions": {
            "azuredatastudio": {
                "version": 1,
                "views": []
            }
        }
    },
    "nbformat_minor": 2,
    "nbformat": 4,
    "cells": [
        {
            "cell_type": "markdown",
            "source": [
                "# SQL Part 3 Studio\n",
                "\n",
                "### Let's practice your SQL quering skills!  For each question, work along in the notebook adding your query and answering the questions. \n",
                "\n",
                "### **DataSet**\n",
                "\n",
                "### <span style=\"font-size: 14px; font-family: -apple-system, BlinkMacSystemFont, sans-serif;\">We will be using the Goodbooks-10k dataset from the exercises in the prep work.&nbsp; Feel free reference your previous notebooks.</span>\n",
                "\n",
                "- The dataset can be found here: [goodbooks-10k](https://www.kaggle.com/zygmunt/goodbooks-10k)\n",
                "- You can access the **BooksDB** in the Launchcode server.\n",
                "\n",
                "### **Business Issue**\n",
                "\n",
                "You are an employee at a small independet bookstore and you have been tasked to increase sales.  You decide to use the BooksDB to find books and themes to highlight in fun promotions throughout each month / season.  We will be starting with March and then you will have a chance to explore another month of your choosing.  We want to come up with a list of events/ promotions to run each month.  If you are looking for ideas to include in your promotions:\n",
                "\n",
                "- [https://www.calendarr.com/united-states/calendar-2022/](https://www.calendarr.com/united-states/calendar-2022/)\n",
                "- [https://www.holidayinsights.com/moreholidays/](https://www.holidayinsights.com/moreholidays/)\n",
                "    - Click on a month and it will take you to a more detailed page"
            ],
            "metadata": {
                "azdata_cell_guid": "b9034d8a-b631-48bf-a895-1012a6ffa784"
            },
            "attachments": {}
        },
        {
            "cell_type": "markdown",
            "source": [
                "## Part 1:  March - Women's History Month, Dr Seuss Day(3/2), National Pie Day3/14, St Patrick's Day (3/17), Season - Spring"
            ],
            "metadata": {
                "azdata_cell_guid": "6e55eb1c-4a14-4076-90d2-95ed17a6309f"
            },
            "attachments": {}
        },
        {
            "cell_type": "markdown",
            "source": [
                "### **Event 1:** Women's History Month\n",
                "\n",
                "Goal: Highlight Popular Womans Authors based on ratings from the Good Reads DB.\n",
                "\n",
                "### **Write a query that returns tag\\_id, the number of times each tag\\_id is used and the tag\\_name.**  \n",
                "\n",
                "### Use the GROUP BY and HAVING clause to narrow your focus.\n",
                "\n",
                "Try multiple keywords, ie woman vs female (female ended up giving better results)"
            ],
            "metadata": {
                "azdata_cell_guid": "d220c097-e9cf-4edd-9abe-312d071217b7"
            },
            "attachments": {}
        },
        {
            "cell_type": "code",
            "source": [
                "-- Solution\n",
                "SELECT TOP 50 t.tag_id, t.tag_name, COUNT(*) AS time\n",
                "FROM BooksDB.dbo.book_tags AS bt \n",
                "FULL JOIN BooksDB.dbo.tags AS t\n",
                "ON bt.tag_id = t.tag_id\n",
                "GROUP BY  t.tag_id, t.tag_name, bt.count\n",
                "HAVING  t.tag_name LIKE '%women%' \n",
                "ORDER BY time DESC\n",
                "\n",
                "/*\n",
                "SELECT TOP 50 t.tag_id, t.tag_name, bt.count\n",
                "FROM BooksDB.dbo.tags AS t\n",
                "INNER JOIN BooksDB.dbo.book_tags AS bt\n",
                "ON t.tag_id = bt.tag_id\n",
                "WHERE t.tag_name LIKE '%women%'\n",
                "GROUP BY  t.tag_id, t.tag_name, bt.count\n",
                "HAVING t.tag_id = 32686\n",
                "ORDER BY bt.count DESC\n",
                "\n",
                "\n",
                "SELECT TOP 50  b.authors, b.title, b.average_rating,t.tag_id, t.tag_name, COUNT(t.tag_id)\n",
                "FROM BooksDB.dbo.tags AS t\n",
                "INNER JOIN BooksDB.dbo.books AS b\n",
                "ON bt.tag_id = b.best_book_id\n",
                "WHERE t.tag_name = '%women%'\n",
                "*/\n",
                "/*\n",
                "SELECT TOP 50 bt.tag_id, b.authors, b.title, b.average_rating\n",
                "FROM BooksDB.dbo.book_tags AS bt\n",
                "INNER JOIN BooksDB.dbo.books AS b\n",
                "ON bt.tag_id = b.best_book_id\n",
                "*/\n",
                ""
            ],
            "metadata": {
                "azdata_cell_guid": "e31b9d26-0386-44c7-828e-85f4f06f3ee6",
                "language": "sql",
                "tags": []
            },
            "outputs": [
                {
                    "output_type": "display_data",
                    "data": {
                        "text/html": "(50 rows affected)"
                    },
                    "metadata": {}
                },
                {
                    "output_type": "display_data",
                    "data": {
                        "text/html": "Total execution time: 00:00:00.187"
                    },
                    "metadata": {}
                },
                {
                    "output_type": "execute_result",
                    "metadata": {},
                    "execution_count": 74,
                    "data": {
                        "application/vnd.dataresource+json": {
                            "schema": {
                                "fields": [
                                    {
                                        "name": "tag_id"
                                    },
                                    {
                                        "name": "tag_name"
                                    },
                                    {
                                        "name": "count"
                                    }
                                ]
                            },
                            "data": [
                                {
                                    "0": "32686",
                                    "1": "women",
                                    "2": "431"
                                },
                                {
                                    "0": "32686",
                                    "1": "women",
                                    "2": "304"
                                },
                                {
                                    "0": "32686",
                                    "1": "women",
                                    "2": "237"
                                },
                                {
                                    "0": "32716",
                                    "1": "women-s-murder-club",
                                    "2": "237"
                                },
                                {
                                    "0": "32716",
                                    "1": "women-s-murder-club",
                                    "2": "229"
                                },
                                {
                                    "0": "32686",
                                    "1": "women",
                                    "2": "228"
                                },
                                {
                                    "0": "32686",
                                    "1": "women",
                                    "2": "216"
                                },
                                {
                                    "0": "32716",
                                    "1": "women-s-murder-club",
                                    "2": "215"
                                },
                                {
                                    "0": "32716",
                                    "1": "women-s-murder-club",
                                    "2": "214"
                                },
                                {
                                    "0": "32716",
                                    "1": "women-s-murder-club",
                                    "2": "211"
                                },
                                {
                                    "0": "32686",
                                    "1": "women",
                                    "2": "209"
                                },
                                {
                                    "0": "32716",
                                    "1": "women-s-murder-club",
                                    "2": "207"
                                },
                                {
                                    "0": "32686",
                                    "1": "women",
                                    "2": "205"
                                },
                                {
                                    "0": "32686",
                                    "1": "women",
                                    "2": "202"
                                },
                                {
                                    "0": "32716",
                                    "1": "women-s-murder-club",
                                    "2": "199"
                                },
                                {
                                    "0": "32686",
                                    "1": "women",
                                    "2": "194"
                                },
                                {
                                    "0": "32716",
                                    "1": "women-s-murder-club",
                                    "2": "191"
                                },
                                {
                                    "0": "32716",
                                    "1": "women-s-murder-club",
                                    "2": "186"
                                },
                                {
                                    "0": "32686",
                                    "1": "women",
                                    "2": "169"
                                },
                                {
                                    "0": "32686",
                                    "1": "women",
                                    "2": "168"
                                },
                                {
                                    "0": "32686",
                                    "1": "women",
                                    "2": "167"
                                },
                                {
                                    "0": "32716",
                                    "1": "women-s-murder-club",
                                    "2": "166"
                                },
                                {
                                    "0": "32686",
                                    "1": "women",
                                    "2": "163"
                                },
                                {
                                    "0": "32686",
                                    "1": "women",
                                    "2": "162"
                                },
                                {
                                    "0": "32686",
                                    "1": "women",
                                    "2": "161"
                                },
                                {
                                    "0": "32686",
                                    "1": "women",
                                    "2": "159"
                                },
                                {
                                    "0": "32686",
                                    "1": "women",
                                    "2": "158"
                                },
                                {
                                    "0": "32686",
                                    "1": "women",
                                    "2": "150"
                                },
                                {
                                    "0": "32686",
                                    "1": "women",
                                    "2": "148"
                                },
                                {
                                    "0": "32686",
                                    "1": "women",
                                    "2": "147"
                                },
                                {
                                    "0": "32686",
                                    "1": "women",
                                    "2": "143"
                                },
                                {
                                    "0": "32702",
                                    "1": "women-of-the-otherworld",
                                    "2": "143"
                                },
                                {
                                    "0": "32716",
                                    "1": "women-s-murder-club",
                                    "2": "143"
                                },
                                {
                                    "0": "32686",
                                    "1": "women",
                                    "2": "138"
                                },
                                {
                                    "0": "32686",
                                    "1": "women",
                                    "2": "136"
                                },
                                {
                                    "0": "32686",
                                    "1": "women",
                                    "2": "132"
                                },
                                {
                                    "0": "32724",
                                    "1": "women-writers",
                                    "2": "132"
                                },
                                {
                                    "0": "32686",
                                    "1": "women",
                                    "2": "131"
                                },
                                {
                                    "0": "32716",
                                    "1": "women-s-murder-club",
                                    "2": "129"
                                },
                                {
                                    "0": "32724",
                                    "1": "women-writers",
                                    "2": "129"
                                },
                                {
                                    "0": "32686",
                                    "1": "women",
                                    "2": "128"
                                },
                                {
                                    "0": "32686",
                                    "1": "women",
                                    "2": "125"
                                },
                                {
                                    "0": "32686",
                                    "1": "women",
                                    "2": "122"
                                },
                                {
                                    "0": "32732",
                                    "1": "womens-murder-club",
                                    "2": "122"
                                },
                                {
                                    "0": "32686",
                                    "1": "women",
                                    "2": "118"
                                },
                                {
                                    "0": "32702",
                                    "1": "women-of-the-otherworld",
                                    "2": "118"
                                },
                                {
                                    "0": "32702",
                                    "1": "women-of-the-otherworld",
                                    "2": "117"
                                },
                                {
                                    "0": "32702",
                                    "1": "women-of-the-otherworld",
                                    "2": "116"
                                },
                                {
                                    "0": "32702",
                                    "1": "women-of-the-otherworld",
                                    "2": "115"
                                },
                                {
                                    "0": "32686",
                                    "1": "women",
                                    "2": "111"
                                }
                            ]
                        },
                        "text/html": [
                            "<table>",
                            "<tr><th>tag_id</th><th>tag_name</th><th>count</th></tr>",
                            "<tr><td>32686</td><td>women</td><td>431</td></tr>",
                            "<tr><td>32686</td><td>women</td><td>304</td></tr>",
                            "<tr><td>32686</td><td>women</td><td>237</td></tr>",
                            "<tr><td>32716</td><td>women-s-murder-club</td><td>237</td></tr>",
                            "<tr><td>32716</td><td>women-s-murder-club</td><td>229</td></tr>",
                            "<tr><td>32686</td><td>women</td><td>228</td></tr>",
                            "<tr><td>32686</td><td>women</td><td>216</td></tr>",
                            "<tr><td>32716</td><td>women-s-murder-club</td><td>215</td></tr>",
                            "<tr><td>32716</td><td>women-s-murder-club</td><td>214</td></tr>",
                            "<tr><td>32716</td><td>women-s-murder-club</td><td>211</td></tr>",
                            "<tr><td>32686</td><td>women</td><td>209</td></tr>",
                            "<tr><td>32716</td><td>women-s-murder-club</td><td>207</td></tr>",
                            "<tr><td>32686</td><td>women</td><td>205</td></tr>",
                            "<tr><td>32686</td><td>women</td><td>202</td></tr>",
                            "<tr><td>32716</td><td>women-s-murder-club</td><td>199</td></tr>",
                            "<tr><td>32686</td><td>women</td><td>194</td></tr>",
                            "<tr><td>32716</td><td>women-s-murder-club</td><td>191</td></tr>",
                            "<tr><td>32716</td><td>women-s-murder-club</td><td>186</td></tr>",
                            "<tr><td>32686</td><td>women</td><td>169</td></tr>",
                            "<tr><td>32686</td><td>women</td><td>168</td></tr>",
                            "<tr><td>32686</td><td>women</td><td>167</td></tr>",
                            "<tr><td>32716</td><td>women-s-murder-club</td><td>166</td></tr>",
                            "<tr><td>32686</td><td>women</td><td>163</td></tr>",
                            "<tr><td>32686</td><td>women</td><td>162</td></tr>",
                            "<tr><td>32686</td><td>women</td><td>161</td></tr>",
                            "<tr><td>32686</td><td>women</td><td>159</td></tr>",
                            "<tr><td>32686</td><td>women</td><td>158</td></tr>",
                            "<tr><td>32686</td><td>women</td><td>150</td></tr>",
                            "<tr><td>32686</td><td>women</td><td>148</td></tr>",
                            "<tr><td>32686</td><td>women</td><td>147</td></tr>",
                            "<tr><td>32686</td><td>women</td><td>143</td></tr>",
                            "<tr><td>32702</td><td>women-of-the-otherworld</td><td>143</td></tr>",
                            "<tr><td>32716</td><td>women-s-murder-club</td><td>143</td></tr>",
                            "<tr><td>32686</td><td>women</td><td>138</td></tr>",
                            "<tr><td>32686</td><td>women</td><td>136</td></tr>",
                            "<tr><td>32686</td><td>women</td><td>132</td></tr>",
                            "<tr><td>32724</td><td>women-writers</td><td>132</td></tr>",
                            "<tr><td>32686</td><td>women</td><td>131</td></tr>",
                            "<tr><td>32716</td><td>women-s-murder-club</td><td>129</td></tr>",
                            "<tr><td>32724</td><td>women-writers</td><td>129</td></tr>",
                            "<tr><td>32686</td><td>women</td><td>128</td></tr>",
                            "<tr><td>32686</td><td>women</td><td>125</td></tr>",
                            "<tr><td>32686</td><td>women</td><td>122</td></tr>",
                            "<tr><td>32732</td><td>womens-murder-club</td><td>122</td></tr>",
                            "<tr><td>32686</td><td>women</td><td>118</td></tr>",
                            "<tr><td>32702</td><td>women-of-the-otherworld</td><td>118</td></tr>",
                            "<tr><td>32702</td><td>women-of-the-otherworld</td><td>117</td></tr>",
                            "<tr><td>32702</td><td>women-of-the-otherworld</td><td>116</td></tr>",
                            "<tr><td>32702</td><td>women-of-the-otherworld</td><td>115</td></tr>",
                            "<tr><td>32686</td><td>women</td><td>111</td></tr>",
                            "</table>"
                        ]
                    }
                }
            ],
            "execution_count": 74
        },
        {
            "cell_type": "code",
            "source": [
                "\n",
                "SELECT TOP 50 t.tag_id, t.tag_name, bt.count, r.rating\n",
                "FROM BooksDB.dbo.tags AS t\n",
                "INNER JOIN BooksDB.dbo.book_tags AS bt\n",
                "ON t.tag_id = bt.tag_id\n",
                "INNER JOIN BooksDB.dbo.ratings AS r\n",
                "ON t.tag_id = r.book_id\n",
                "\n",
                "WHERE t.tag_name LIKE '%women%'\n",
                "GROUP BY  t.tag_id, t.tag_name, bt.count\n",
                "HAVING t.tag_id = 32686\n",
                "ORDER BY r.rating DESC\n",
                "\n",
                "--ORDER BY bt.count DESC\n",
                "\n",
                "SELECT TOP 50 tag_name\n",
                "FROM BooksDB.dbo.tags \n",
                "WHERE tag_name LIKE '%women%'\n",
                "\n",
                "/*\n",
                "SELECT TOP 50  b.authors, b.title, b.average_rating,t.tag_id, t.tag_name, COUNT(t.tag_id)\n",
                "FROM BooksDB.dbo.tags AS t\n",
                "INNER JOIN BooksDB.dbo.books AS b\n",
                "ON bt.tag_id = b.best_book_id\n",
                "WHERE t.tag_name = '%women%'\n",
                "*/\n",
                "/*\n",
                "SELECT TOP 50 bt.tag_id, b.authors, b.title, b.average_rating\n",
                "FROM BooksDB.dbo.book_tags AS bt\n",
                "INNER JOIN BooksDB.dbo.books AS b\n",
                "ON bt.tag_id = b.best_book_id\n",
                "*/"
            ],
            "metadata": {
                "azdata_cell_guid": "43419e60-435b-44d8-9d7c-b88927ff47af",
                "language": "sql"
            },
            "outputs": [
                {
                    "output_type": "display_data",
                    "data": {
                        "text/html": "(0 rows affected)"
                    },
                    "metadata": {}
                },
                {
                    "output_type": "display_data",
                    "data": {
                        "text/html": "(50 rows affected)"
                    },
                    "metadata": {}
                },
                {
                    "output_type": "display_data",
                    "data": {
                        "text/html": "Total execution time: 00:00:00.133"
                    },
                    "metadata": {}
                },
                {
                    "output_type": "execute_result",
                    "metadata": {},
                    "execution_count": 47,
                    "data": {
                        "application/vnd.dataresource+json": {
                            "schema": {
                                "fields": [
                                    {
                                        "name": "tag_id"
                                    },
                                    {
                                        "name": "tag_name"
                                    },
                                    {
                                        "name": "tags"
                                    },
                                    {
                                        "name": "average_rating"
                                    }
                                ]
                            },
                            "data": []
                        },
                        "text/html": [
                            "<table>",
                            "<tr><th>tag_id</th><th>tag_name</th><th>tags</th><th>average_rating</th></tr>",
                            "</table>"
                        ]
                    }
                },
                {
                    "output_type": "execute_result",
                    "metadata": {},
                    "execution_count": 47,
                    "data": {
                        "application/vnd.dataresource+json": {
                            "schema": {
                                "fields": [
                                    {
                                        "name": "tag_name"
                                    }
                                ]
                            },
                            "data": [
                                {
                                    "0": "1960s-women-s-status"
                                },
                                {
                                    "0": "2017-read-women"
                                },
                                {
                                    "0": "4-women-intertwined-stories"
                                },
                                {
                                    "0": "500-women"
                                },
                                {
                                    "0": "abused-women"
                                },
                                {
                                    "0": "arab-women"
                                },
                                {
                                    "0": "artist-women-bio"
                                },
                                {
                                    "0": "australian-women-writers"
                                },
                                {
                                    "0": "biographies-of-women"
                                },
                                {
                                    "0": "biography-women"
                                },
                                {
                                    "0": "books-by-women"
                                },
                                {
                                    "0": "by-women"
                                },
                                {
                                    "0": "career-women"
                                },
                                {
                                    "0": "chinese-women"
                                },
                                {
                                    "0": "christian-women"
                                },
                                {
                                    "0": "cis-women"
                                },
                                {
                                    "0": "education-for-women"
                                },
                                {
                                    "0": "for-women"
                                },
                                {
                                    "0": "friendship-women"
                                },
                                {
                                    "0": "funny-women"
                                },
                                {
                                    "0": "gutsy-women"
                                },
                                {
                                    "0": "historical-fiction-civil-war-women"
                                },
                                {
                                    "0": "islamic-women"
                                },
                                {
                                    "0": "james-patterson-women-s-murder-cl"
                                },
                                {
                                    "0": "james-patterson-women-s-murder-club"
                                },
                                {
                                    "0": "james-patterson-womens-murder-club"
                                },
                                {
                                    "0": "little-women"
                                },
                                {
                                    "0": "men-women"
                                },
                                {
                                    "0": "men-women-relations"
                                },
                                {
                                    "0": "muslim-women"
                                },
                                {
                                    "0": "own-written-by-women"
                                },
                                {
                                    "0": "patterson-women-s-murder-club"
                                },
                                {
                                    "0": "patterson-womens-murder-club"
                                },
                                {
                                    "0": "pioneer-women"
                                },
                                {
                                    "0": "policewomen"
                                },
                                {
                                    "0": "readwomen2014"
                                },
                                {
                                    "0": "readwomen2016"
                                },
                                {
                                    "0": "series-women-of-the-otherworld"
                                },
                                {
                                    "0": "series-womens-murder-club"
                                },
                                {
                                    "0": "single-women"
                                },
                                {
                                    "0": "strong-women"
                                },
                                {
                                    "0": "the-life-of-women-in-royal-family-o"
                                },
                                {
                                    "0": "women"
                                },
                                {
                                    "0": "women-and-religion"
                                },
                                {
                                    "0": "women-authors"
                                },
                                {
                                    "0": "women-entrepeneurs"
                                },
                                {
                                    "0": "women-feminism"
                                },
                                {
                                    "0": "women-fiction"
                                },
                                {
                                    "0": "women-friends"
                                },
                                {
                                    "0": "women-friendships"
                                }
                            ]
                        },
                        "text/html": [
                            "<table>",
                            "<tr><th>tag_name</th></tr>",
                            "<tr><td>1960s-women-s-status</td></tr>",
                            "<tr><td>2017-read-women</td></tr>",
                            "<tr><td>4-women-intertwined-stories</td></tr>",
                            "<tr><td>500-women</td></tr>",
                            "<tr><td>abused-women</td></tr>",
                            "<tr><td>arab-women</td></tr>",
                            "<tr><td>artist-women-bio</td></tr>",
                            "<tr><td>australian-women-writers</td></tr>",
                            "<tr><td>biographies-of-women</td></tr>",
                            "<tr><td>biography-women</td></tr>",
                            "<tr><td>books-by-women</td></tr>",
                            "<tr><td>by-women</td></tr>",
                            "<tr><td>career-women</td></tr>",
                            "<tr><td>chinese-women</td></tr>",
                            "<tr><td>christian-women</td></tr>",
                            "<tr><td>cis-women</td></tr>",
                            "<tr><td>education-for-women</td></tr>",
                            "<tr><td>for-women</td></tr>",
                            "<tr><td>friendship-women</td></tr>",
                            "<tr><td>funny-women</td></tr>",
                            "<tr><td>gutsy-women</td></tr>",
                            "<tr><td>historical-fiction-civil-war-women</td></tr>",
                            "<tr><td>islamic-women</td></tr>",
                            "<tr><td>james-patterson-women-s-murder-cl</td></tr>",
                            "<tr><td>james-patterson-women-s-murder-club</td></tr>",
                            "<tr><td>james-patterson-womens-murder-club</td></tr>",
                            "<tr><td>little-women</td></tr>",
                            "<tr><td>men-women</td></tr>",
                            "<tr><td>men-women-relations</td></tr>",
                            "<tr><td>muslim-women</td></tr>",
                            "<tr><td>own-written-by-women</td></tr>",
                            "<tr><td>patterson-women-s-murder-club</td></tr>",
                            "<tr><td>patterson-womens-murder-club</td></tr>",
                            "<tr><td>pioneer-women</td></tr>",
                            "<tr><td>policewomen</td></tr>",
                            "<tr><td>readwomen2014</td></tr>",
                            "<tr><td>readwomen2016</td></tr>",
                            "<tr><td>series-women-of-the-otherworld</td></tr>",
                            "<tr><td>series-womens-murder-club</td></tr>",
                            "<tr><td>single-women</td></tr>",
                            "<tr><td>strong-women</td></tr>",
                            "<tr><td>the-life-of-women-in-royal-family-o</td></tr>",
                            "<tr><td>women</td></tr>",
                            "<tr><td>women-and-religion</td></tr>",
                            "<tr><td>women-authors</td></tr>",
                            "<tr><td>women-entrepeneurs</td></tr>",
                            "<tr><td>women-feminism</td></tr>",
                            "<tr><td>women-fiction</td></tr>",
                            "<tr><td>women-friends</td></tr>",
                            "<tr><td>women-friendships</td></tr>",
                            "</table>"
                        ]
                    }
                }
            ],
            "execution_count": 47
        },
        {
            "cell_type": "markdown",
            "source": [
                "### **Which keyword(s) and tag(s) would you like to explore more?**\n",
                "\n",
                "tag\\\\\\_id is female-author - 11643\n",
                "\n",
                "tag\\\\\\_id is female-authors - 11644"
            ],
            "metadata": {
                "azdata_cell_guid": "e9acd8b5-a62b-4ac0-bd07-19915b379ba6"
            },
            "attachments": {}
        },
        {
            "cell_type": "markdown",
            "source": [
                "### **Write a query to return authors, titles, ratings and** **selected tag(s)\\_id.**"
            ],
            "metadata": {
                "azdata_cell_guid": "59b84464-c0bc-4dac-9e02-0c803765b063"
            },
            "attachments": {}
        },
        {
            "cell_type": "code",
            "source": [
                "-- Solution\n",
                "SELECT TOP 50 bt.tag_id, b.authors, b.title, b.average_rating\n",
                "FROM BooksDB.dbo.book_tags AS bt\n",
                "FULL JOIN BooksDB.dbo.books AS b\n",
                "ON bt.goodreads_book_id = b.book_id\n",
                "WHERE tag_id = 19445\n",
                "--GROUP BY  bt.tag_id, b.authors, b.title, b.average_rating\n",
                "--HAVING bt.tag_name LIKE '%Math'\n",
                "ORDER BY tag_id, average_rating\n",
                ""
            ],
            "metadata": {
                "azdata_cell_guid": "51ffeaaf-6dde-4906-95f3-eb8757babf27",
                "tags": [],
                "language": "sql"
            },
            "outputs": [
                {
                    "output_type": "display_data",
                    "data": {
                        "text/html": "(50 rows affected)"
                    },
                    "metadata": {}
                },
                {
                    "output_type": "display_data",
                    "data": {
                        "text/html": "Total execution time: 00:00:00.165"
                    },
                    "metadata": {}
                },
                {
                    "output_type": "execute_result",
                    "metadata": {},
                    "execution_count": 88,
                    "data": {
                        "application/vnd.dataresource+json": {
                            "schema": {
                                "fields": [
                                    {
                                        "name": "tag_id"
                                    },
                                    {
                                        "name": "authors"
                                    },
                                    {
                                        "name": "title"
                                    },
                                    {
                                        "name": "average_rating"
                                    }
                                ]
                            },
                            "data": [
                                {
                                    "0": "19445",
                                    "1": "Paolo Giordano, Shaun Whiteside",
                                    "2": "The Solitude of Prime Numbers",
                                    "3": "3.58"
                                },
                                {
                                    "0": "19445",
                                    "1": "Blue Balliett, Brett Helquist",
                                    "2": "Chasing Vermeer (Chasing Vermeer, #1)",
                                    "3": "3.71"
                                },
                                {
                                    "0": "19445",
                                    "1": "Christian Rudder",
                                    "2": "Dataclysm: Who We Are (When We Think No One's Looking)",
                                    "3": "3.72"
                                },
                                {
                                    "0": "19445",
                                    "1": "Edwin A. Abbott, Banesh Hoffmann",
                                    "2": "Flatland: A Romance of Many Dimensions",
                                    "3": "3.81"
                                },
                                {
                                    "0": "19445",
                                    "1": "Daniel Tammet",
                                    "2": "Born on a Blue Day: Inside the Extraordinary Mind of an Autistic Savant",
                                    "3": "3.84"
                                },
                                {
                                    "0": "19445",
                                    "1": "Ben Mezrich",
                                    "2": "Bringing Down the House: The Inside Story of Six M.I.T. Students Who Took Vegas for Millions",
                                    "3": "3.87"
                                },
                                {
                                    "0": "19445",
                                    "1": "Nassim Nicholas Taleb",
                                    "2": "The Black Swan: The Impact of the Highly Improbable",
                                    "3": "3.88"
                                },
                                {
                                    "0": "19445",
                                    "1": "Leonard Mlodinow",
                                    "2": "The Drunkard's Walk: How Randomness Rules Our Lives",
                                    "3": "3.88"
                                },
                                {
                                    "0": "19445",
                                    "1": "Jacqueline Davies",
                                    "2": "The Lemonade War (The Lemonade War, #1)",
                                    "3": "3.88"
                                },
                                {
                                    "0": "19445",
                                    "1": "Margot Lee Shetterly",
                                    "2": "Hidden Figures: The American Dream and the Untold Story of the Black Women Mathematicians Who Helped Win the Space Race",
                                    "3": "3.92"
                                },
                                {
                                    "0": "19445",
                                    "1": "M.C. Escher, Bruce Brooks Pfeiffer",
                                    "2": "M.C. Escher: The Graphic Work",
                                    "3": "3.93"
                                },
                                {
                                    "0": "19445",
                                    "1": "Yōko Ogawa, Stephen Snyder",
                                    "2": "The Housekeeper and the Professor",
                                    "3": "3.94"
                                },
                                {
                                    "0": "19445",
                                    "1": "Dava Sobel, Neil Armstrong",
                                    "2": "Longitude: The True Story of a Lone Genius Who Solved the Greatest Scientific Problem of His Time",
                                    "3": "3.95"
                                },
                                {
                                    "0": "19445",
                                    "1": "Nate Silver",
                                    "2": "The Signal and the Noise: Why So Many Predictions Fail - But Some Don't",
                                    "3": "3.96"
                                },
                                {
                                    "0": "19445",
                                    "1": "Fritjof Capra",
                                    "2": "The Tao of Physics: An Exploration of the Parallels between Modern Physics and Eastern Mysticism",
                                    "3": "3.96"
                                },
                                {
                                    "0": "19445",
                                    "1": "James Gleick",
                                    "2": "Chaos: Making a New Science",
                                    "3": "3.98"
                                },
                                {
                                    "0": "19445",
                                    "1": "James Gleick",
                                    "2": "The Information: A History, a Theory, a Flood",
                                    "3": "3.98"
                                },
                                {
                                    "0": "19445",
                                    "1": "Apostolos Doxiadis, Christos H. Papadimitriou, Alecos Papadatos, Annie Di Donna",
                                    "2": "Logicomix: An epic search for truth",
                                    "3": "4.01"
                                },
                                {
                                    "0": "19445",
                                    "1": "David Auburn",
                                    "2": "Proof",
                                    "3": "4.01"
                                },
                                {
                                    "0": "19445",
                                    "1": "Nassim Nicholas Taleb",
                                    "2": "Antifragile: Things That Gain from Disorder",
                                    "3": "4.04"
                                },
                                {
                                    "0": "19445",
                                    "1": "Nassim Nicholas Taleb",
                                    "2": "Fooled by Randomness: The Hidden Role of Chance in Life and in the Markets",
                                    "3": "4.05"
                                },
                                {
                                    "0": "19445",
                                    "1": "Burton G. Malkiel",
                                    "2": "A Random Walk Down Wall Street",
                                    "3": "4.05"
                                },
                                {
                                    "0": "19445",
                                    "1": "Brian Greene",
                                    "2": "The Elegant Universe: Superstrings, Hidden Dimensions, and the Quest for the Ultimate Theory",
                                    "3": "4.06"
                                },
                                {
                                    "0": "19445",
                                    "1": "Ludwig Wittgenstein",
                                    "2": "Tractatus Logico-Philosophicus",
                                    "3": "4.06"
                                },
                                {
                                    "0": "19445",
                                    "1": "Wanda Gág",
                                    "2": "Millions of Cats",
                                    "3": "4.08"
                                },
                                {
                                    "0": "19445",
                                    "1": "Eric Carle",
                                    "2": "The Grouchy Ladybug",
                                    "3": "4.09"
                                },
                                {
                                    "0": "19445",
                                    "1": "Theo LeSieg, Roy McKie",
                                    "2": "Ten Apples Up On Top!",
                                    "3": "4.11"
                                },
                                {
                                    "0": "19445",
                                    "1": "Michio Kaku",
                                    "2": "Hyperspace",
                                    "3": "4.11"
                                },
                                {
                                    "0": "19445",
                                    "1": "Jean Lee Latham",
                                    "2": "Carry On, Mr. Bowditch",
                                    "3": "4.11"
                                },
                                {
                                    "0": "19445",
                                    "1": "Sylvia Nasar",
                                    "2": "A Beautiful Mind",
                                    "3": "4.12"
                                },
                                {
                                    "0": "19445",
                                    "1": "Dr. Seuss",
                                    "2": "One Fish, Two Fish, Red Fish, Blue Fish",
                                    "3": "4.12"
                                },
                                {
                                    "0": "19445",
                                    "1": "Esphyr Slobodkina",
                                    "2": "Caps for Sale: A Tale of a Peddler, Some Monkeys and Their Monkey Business",
                                    "3": "4.12"
                                },
                                {
                                    "0": "19445",
                                    "1": "Ellen Stoll Walsh",
                                    "2": "Mouse Paint",
                                    "3": "4.15"
                                },
                                {
                                    "0": "19445",
                                    "1": "Bruno Ernst, M.C. Escher, John E. Brigham",
                                    "2": "The Magic Mirror of M.C. Escher",
                                    "3": "4.15"
                                },
                                {
                                    "0": "19445",
                                    "1": "James Gleick",
                                    "2": "Genius: The Life and Science of Richard Feynman",
                                    "3": "4.16"
                                },
                                {
                                    "0": "19445",
                                    "1": "Albert Einstein, Nigel Calder, Robert W. Lawson",
                                    "2": "Relativity: The Special and the General Theory",
                                    "3": "4.17"
                                },
                                {
                                    "0": "19445",
                                    "1": "Randall Munroe",
                                    "2": "What If?: Serious Scientific Answers to Absurd Hypothetical Questions",
                                    "3": "4.17"
                                },
                                {
                                    "0": "19445",
                                    "1": "Neal Stephenson",
                                    "2": "Anathem",
                                    "3": "4.18"
                                },
                                {
                                    "0": "19445",
                                    "1": "Richard Feynman",
                                    "2": "Six Easy Pieces: Essentials of Physics By Its Most Brilliant Teacher",
                                    "3": "4.19"
                                },
                                {
                                    "0": "19445",
                                    "1": "Tom Stoppard",
                                    "2": "Arcadia",
                                    "3": "4.19"
                                },
                                {
                                    "0": "19445",
                                    "1": "Vera B. Williams",
                                    "2": "A Chair for My Mother",
                                    "3": "4.2"
                                },
                                {
                                    "0": "19445",
                                    "1": "Simon Singh",
                                    "2": "Fermat's Enigma: The Epic Quest to Solve the World's Greatest Mathematical Problem",
                                    "3": "4.22"
                                },
                                {
                                    "0": "19445",
                                    "1": "Norton Juster, Jules Feiffer",
                                    "2": "The Phantom Tollbooth",
                                    "3": "4.22"
                                },
                                {
                                    "0": "19445",
                                    "1": "Kevin Henkes",
                                    "2": "Wemberly Worried",
                                    "3": "4.22"
                                },
                                {
                                    "0": "19445",
                                    "1": "Richard Feynman",
                                    "2": "QED: The Strange Theory of Light and Matter",
                                    "3": "4.23"
                                },
                                {
                                    "0": "19445",
                                    "1": "Michael   Lewis",
                                    "2": "Moneyball: The Art of Winning an Unfair Game",
                                    "3": "4.24"
                                },
                                {
                                    "0": "19445",
                                    "1": "Neal Stephenson",
                                    "2": "Cryptonomicon",
                                    "3": "4.25"
                                },
                                {
                                    "0": "19445",
                                    "1": "Audrey Wood, Don    Wood",
                                    "2": "The Napping House",
                                    "3": "4.27"
                                },
                                {
                                    "0": "19445",
                                    "1": "Simon Singh",
                                    "2": "The Code Book: The Science of Secrecy from Ancient Egypt to Quantum Cryptography",
                                    "3": "4.28"
                                },
                                {
                                    "0": "19445",
                                    "1": "Richard Feynman",
                                    "2": "Surely You're Joking, Mr. Feynman!: Adventures of a Curious Character",
                                    "3": "4.29"
                                }
                            ]
                        },
                        "text/html": [
                            "<table>",
                            "<tr><th>tag_id</th><th>authors</th><th>title</th><th>average_rating</th></tr>",
                            "<tr><td>19445</td><td>Paolo Giordano, Shaun Whiteside</td><td>The Solitude of Prime Numbers</td><td>3.58</td></tr>",
                            "<tr><td>19445</td><td>Blue Balliett, Brett Helquist</td><td>Chasing Vermeer (Chasing Vermeer, #1)</td><td>3.71</td></tr>",
                            "<tr><td>19445</td><td>Christian Rudder</td><td>Dataclysm: Who We Are (When We Think No One's Looking)</td><td>3.72</td></tr>",
                            "<tr><td>19445</td><td>Edwin A. Abbott, Banesh Hoffmann</td><td>Flatland: A Romance of Many Dimensions</td><td>3.81</td></tr>",
                            "<tr><td>19445</td><td>Daniel Tammet</td><td>Born on a Blue Day: Inside the Extraordinary Mind of an Autistic Savant</td><td>3.84</td></tr>",
                            "<tr><td>19445</td><td>Ben Mezrich</td><td>Bringing Down the House: The Inside Story of Six M.I.T. Students Who Took Vegas for Millions</td><td>3.87</td></tr>",
                            "<tr><td>19445</td><td>Nassim Nicholas Taleb</td><td>The Black Swan: The Impact of the Highly Improbable</td><td>3.88</td></tr>",
                            "<tr><td>19445</td><td>Leonard Mlodinow</td><td>The Drunkard's Walk: How Randomness Rules Our Lives</td><td>3.88</td></tr>",
                            "<tr><td>19445</td><td>Jacqueline Davies</td><td>The Lemonade War (The Lemonade War, #1)</td><td>3.88</td></tr>",
                            "<tr><td>19445</td><td>Margot Lee Shetterly</td><td>Hidden Figures: The American Dream and the Untold Story of the Black Women Mathematicians Who Helped Win the Space Race</td><td>3.92</td></tr>",
                            "<tr><td>19445</td><td>M.C. Escher, Bruce Brooks Pfeiffer</td><td>M.C. Escher: The Graphic Work</td><td>3.93</td></tr>",
                            "<tr><td>19445</td><td>Yōko Ogawa, Stephen Snyder</td><td>The Housekeeper and the Professor</td><td>3.94</td></tr>",
                            "<tr><td>19445</td><td>Dava Sobel, Neil Armstrong</td><td>Longitude: The True Story of a Lone Genius Who Solved the Greatest Scientific Problem of His Time</td><td>3.95</td></tr>",
                            "<tr><td>19445</td><td>Nate Silver</td><td>The Signal and the Noise: Why So Many Predictions Fail - But Some Don't</td><td>3.96</td></tr>",
                            "<tr><td>19445</td><td>Fritjof Capra</td><td>The Tao of Physics: An Exploration of the Parallels between Modern Physics and Eastern Mysticism</td><td>3.96</td></tr>",
                            "<tr><td>19445</td><td>James Gleick</td><td>Chaos: Making a New Science</td><td>3.98</td></tr>",
                            "<tr><td>19445</td><td>James Gleick</td><td>The Information: A History, a Theory, a Flood</td><td>3.98</td></tr>",
                            "<tr><td>19445</td><td>Apostolos Doxiadis, Christos H. Papadimitriou, Alecos Papadatos, Annie Di Donna</td><td>Logicomix: An epic search for truth</td><td>4.01</td></tr>",
                            "<tr><td>19445</td><td>David Auburn</td><td>Proof</td><td>4.01</td></tr>",
                            "<tr><td>19445</td><td>Nassim Nicholas Taleb</td><td>Antifragile: Things That Gain from Disorder</td><td>4.04</td></tr>",
                            "<tr><td>19445</td><td>Nassim Nicholas Taleb</td><td>Fooled by Randomness: The Hidden Role of Chance in Life and in the Markets</td><td>4.05</td></tr>",
                            "<tr><td>19445</td><td>Burton G. Malkiel</td><td>A Random Walk Down Wall Street</td><td>4.05</td></tr>",
                            "<tr><td>19445</td><td>Brian Greene</td><td>The Elegant Universe: Superstrings, Hidden Dimensions, and the Quest for the Ultimate Theory</td><td>4.06</td></tr>",
                            "<tr><td>19445</td><td>Ludwig Wittgenstein</td><td>Tractatus Logico-Philosophicus</td><td>4.06</td></tr>",
                            "<tr><td>19445</td><td>Wanda Gág</td><td>Millions of Cats</td><td>4.08</td></tr>",
                            "<tr><td>19445</td><td>Eric Carle</td><td>The Grouchy Ladybug</td><td>4.09</td></tr>",
                            "<tr><td>19445</td><td>Theo LeSieg, Roy McKie</td><td>Ten Apples Up On Top!</td><td>4.11</td></tr>",
                            "<tr><td>19445</td><td>Michio Kaku</td><td>Hyperspace</td><td>4.11</td></tr>",
                            "<tr><td>19445</td><td>Jean Lee Latham</td><td>Carry On, Mr. Bowditch</td><td>4.11</td></tr>",
                            "<tr><td>19445</td><td>Sylvia Nasar</td><td>A Beautiful Mind</td><td>4.12</td></tr>",
                            "<tr><td>19445</td><td>Dr. Seuss</td><td>One Fish, Two Fish, Red Fish, Blue Fish</td><td>4.12</td></tr>",
                            "<tr><td>19445</td><td>Esphyr Slobodkina</td><td>Caps for Sale: A Tale of a Peddler, Some Monkeys and Their Monkey Business</td><td>4.12</td></tr>",
                            "<tr><td>19445</td><td>Ellen Stoll Walsh</td><td>Mouse Paint</td><td>4.15</td></tr>",
                            "<tr><td>19445</td><td>Bruno Ernst, M.C. Escher, John E. Brigham</td><td>The Magic Mirror of M.C. Escher</td><td>4.15</td></tr>",
                            "<tr><td>19445</td><td>James Gleick</td><td>Genius: The Life and Science of Richard Feynman</td><td>4.16</td></tr>",
                            "<tr><td>19445</td><td>Albert Einstein, Nigel Calder, Robert W. Lawson</td><td>Relativity: The Special and the General Theory</td><td>4.17</td></tr>",
                            "<tr><td>19445</td><td>Randall Munroe</td><td>What If?: Serious Scientific Answers to Absurd Hypothetical Questions</td><td>4.17</td></tr>",
                            "<tr><td>19445</td><td>Neal Stephenson</td><td>Anathem</td><td>4.18</td></tr>",
                            "<tr><td>19445</td><td>Richard Feynman</td><td>Six Easy Pieces: Essentials of Physics By Its Most Brilliant Teacher</td><td>4.19</td></tr>",
                            "<tr><td>19445</td><td>Tom Stoppard</td><td>Arcadia</td><td>4.19</td></tr>",
                            "<tr><td>19445</td><td>Vera B. Williams</td><td>A Chair for My Mother</td><td>4.2</td></tr>",
                            "<tr><td>19445</td><td>Simon Singh</td><td>Fermat's Enigma: The Epic Quest to Solve the World's Greatest Mathematical Problem</td><td>4.22</td></tr>",
                            "<tr><td>19445</td><td>Norton Juster, Jules Feiffer</td><td>The Phantom Tollbooth</td><td>4.22</td></tr>",
                            "<tr><td>19445</td><td>Kevin Henkes</td><td>Wemberly Worried</td><td>4.22</td></tr>",
                            "<tr><td>19445</td><td>Richard Feynman</td><td>QED: The Strange Theory of Light and Matter</td><td>4.23</td></tr>",
                            "<tr><td>19445</td><td>Michael   Lewis</td><td>Moneyball: The Art of Winning an Unfair Game</td><td>4.24</td></tr>",
                            "<tr><td>19445</td><td>Neal Stephenson</td><td>Cryptonomicon</td><td>4.25</td></tr>",
                            "<tr><td>19445</td><td>Audrey Wood, Don    Wood</td><td>The Napping House</td><td>4.27</td></tr>",
                            "<tr><td>19445</td><td>Simon Singh</td><td>The Code Book: The Science of Secrecy from Ancient Egypt to Quantum Cryptography</td><td>4.28</td></tr>",
                            "<tr><td>19445</td><td>Richard Feynman</td><td>Surely You're Joking, Mr. Feynman!: Adventures of a Curious Character</td><td>4.29</td></tr>",
                            "</table>"
                        ]
                    }
                }
            ],
            "execution_count": 88
        },
        {
            "cell_type": "markdown",
            "source": [
                "### **Record your thoughts about why you wrote the query the way you did.**"
            ],
            "metadata": {
                "azdata_cell_guid": "1e19a72c-1bca-446b-a0c7-a8efbc35dcf1"
            },
            "attachments": {}
        },
        {
            "cell_type": "markdown",
            "source": [
                "# Part 2: Choose Another Month\n",
                "\n",
                "Choose another month and plan at least 2 events / promotions and answer the following questions.\n",
                "\n",
                "Which month did you choose?  November\n",
                "\n",
                "What 2 events / promotions are you highlighting?\n",
                "\n",
                "> 1. Thanksgiving\n",
                "\n",
                "> 2. Haloween"
            ],
            "metadata": {
                "azdata_cell_guid": "3eaf376d-9de3-4553-a9d0-9caf74ee3d6a"
            },
            "attachments": {}
        },
        {
            "cell_type": "markdown",
            "source": [
                "# Part 3: Summarize your Work\n",
                "\n",
                "For each event write at least one query that joins any two tables in the BooksDB to support your choice and record you thoughts as to why you used the paticlular query. At least one of your queries needs to include a HAVING clause."
            ],
            "metadata": {
                "azdata_cell_guid": "1ba1363a-4f02-4962-a95a-93b80c5926b1"
            },
            "attachments": {}
        },
        {
            "cell_type": "code",
            "source": [
                "-- Event 1 Query\n",
                "\n",
                "SELECT TOP 50 t.tag_id, t.tag_name, bt.count\n",
                "FROM BooksDB.dbo.tags AS t\n",
                "INNER JOIN BooksDB.dbo.book_tags AS bt\n",
                "ON t.tag_id = bt.tag_id\n",
                "WHERE t.tag_name LIKE '%thanksgiving%'\n",
                "GROUP by t.tag_id, t.tag_name, bt.count\n",
                "HAVING t.tag_id = 29599\n",
                "ORDER BY bt.count DESC\n",
                "\n",
                "\n",
                ""
            ],
            "metadata": {
                "azdata_cell_guid": "f50d32ce-4cb2-4af2-acb1-607777a76cf8",
                "language": "sql"
            },
            "outputs": [
                {
                    "output_type": "display_data",
                    "data": {
                        "text/html": "(3 rows affected)"
                    },
                    "metadata": {}
                },
                {
                    "output_type": "display_data",
                    "data": {
                        "text/html": "Total execution time: 00:00:00.168"
                    },
                    "metadata": {}
                },
                {
                    "output_type": "execute_result",
                    "metadata": {},
                    "execution_count": 71,
                    "data": {
                        "application/vnd.dataresource+json": {
                            "schema": {
                                "fields": [
                                    {
                                        "name": "tag_id"
                                    },
                                    {
                                        "name": "tag_name"
                                    },
                                    {
                                        "name": "count"
                                    }
                                ]
                            },
                            "data": [
                                {
                                    "0": "29599",
                                    "1": "thanksgiving",
                                    "2": "8"
                                },
                                {
                                    "0": "29599",
                                    "1": "thanksgiving",
                                    "2": "6"
                                },
                                {
                                    "0": "29599",
                                    "1": "thanksgiving",
                                    "2": "1"
                                }
                            ]
                        },
                        "text/html": [
                            "<table>",
                            "<tr><th>tag_id</th><th>tag_name</th><th>count</th></tr>",
                            "<tr><td>29599</td><td>thanksgiving</td><td>8</td></tr>",
                            "<tr><td>29599</td><td>thanksgiving</td><td>6</td></tr>",
                            "<tr><td>29599</td><td>thanksgiving</td><td>1</td></tr>",
                            "</table>"
                        ]
                    }
                }
            ],
            "execution_count": 71
        },
        {
            "cell_type": "code",
            "source": [
                "\n",
                "SELECT TOP 50 t.tag_id, t.tag_name, bt.count\n",
                "FROM BooksDB.dbo.tags AS t\n",
                "INNER JOIN BooksDB.dbo.book_tags AS bt\n",
                "ON t.tag_id = bt.tag_id\n",
                "WHERE t.tag_name LIKE '%recommended%'\n",
                "GROUP by t.tag_id, t.tag_name, bt.count\n",
                "HAVING t.tag_id = 25506\n",
                "ORDER BY bt.count DESC\n",
                "\n",
                ""
            ],
            "metadata": {
                "azdata_cell_guid": "5606f7f2-c46b-42d3-ac64-7ae21c3394f8",
                "language": "sql"
            },
            "outputs": [
                {
                    "output_type": "display_data",
                    "data": {
                        "text/html": "(50 rows affected)"
                    },
                    "metadata": {}
                },
                {
                    "output_type": "display_data",
                    "data": {
                        "text/html": "Total execution time: 00:00:00.172"
                    },
                    "metadata": {}
                },
                {
                    "output_type": "execute_result",
                    "metadata": {},
                    "execution_count": 66,
                    "data": {
                        "application/vnd.dataresource+json": {
                            "schema": {
                                "fields": [
                                    {
                                        "name": "tag_id"
                                    },
                                    {
                                        "name": "tag_name"
                                    },
                                    {
                                        "name": "count"
                                    }
                                ]
                            },
                            "data": [
                                {
                                    "0": "25506",
                                    "1": "recommended",
                                    "2": "248"
                                },
                                {
                                    "0": "25506",
                                    "1": "recommended",
                                    "2": "181"
                                },
                                {
                                    "0": "25506",
                                    "1": "recommended",
                                    "2": "178"
                                },
                                {
                                    "0": "25506",
                                    "1": "recommended",
                                    "2": "171"
                                },
                                {
                                    "0": "25506",
                                    "1": "recommended",
                                    "2": "165"
                                },
                                {
                                    "0": "25506",
                                    "1": "recommended",
                                    "2": "162"
                                },
                                {
                                    "0": "25506",
                                    "1": "recommended",
                                    "2": "151"
                                },
                                {
                                    "0": "25506",
                                    "1": "recommended",
                                    "2": "148"
                                },
                                {
                                    "0": "25506",
                                    "1": "recommended",
                                    "2": "142"
                                },
                                {
                                    "0": "25506",
                                    "1": "recommended",
                                    "2": "138"
                                },
                                {
                                    "0": "25506",
                                    "1": "recommended",
                                    "2": "127"
                                },
                                {
                                    "0": "25506",
                                    "1": "recommended",
                                    "2": "113"
                                },
                                {
                                    "0": "25506",
                                    "1": "recommended",
                                    "2": "105"
                                },
                                {
                                    "0": "25506",
                                    "1": "recommended",
                                    "2": "104"
                                },
                                {
                                    "0": "25506",
                                    "1": "recommended",
                                    "2": "103"
                                },
                                {
                                    "0": "25506",
                                    "1": "recommended",
                                    "2": "102"
                                },
                                {
                                    "0": "25506",
                                    "1": "recommended",
                                    "2": "99"
                                },
                                {
                                    "0": "25506",
                                    "1": "recommended",
                                    "2": "98"
                                },
                                {
                                    "0": "25506",
                                    "1": "recommended",
                                    "2": "94"
                                },
                                {
                                    "0": "25506",
                                    "1": "recommended",
                                    "2": "90"
                                },
                                {
                                    "0": "25506",
                                    "1": "recommended",
                                    "2": "89"
                                },
                                {
                                    "0": "25506",
                                    "1": "recommended",
                                    "2": "88"
                                },
                                {
                                    "0": "25506",
                                    "1": "recommended",
                                    "2": "86"
                                },
                                {
                                    "0": "25506",
                                    "1": "recommended",
                                    "2": "85"
                                },
                                {
                                    "0": "25506",
                                    "1": "recommended",
                                    "2": "82"
                                },
                                {
                                    "0": "25506",
                                    "1": "recommended",
                                    "2": "81"
                                },
                                {
                                    "0": "25506",
                                    "1": "recommended",
                                    "2": "80"
                                },
                                {
                                    "0": "25506",
                                    "1": "recommended",
                                    "2": "79"
                                },
                                {
                                    "0": "25506",
                                    "1": "recommended",
                                    "2": "78"
                                },
                                {
                                    "0": "25506",
                                    "1": "recommended",
                                    "2": "77"
                                },
                                {
                                    "0": "25506",
                                    "1": "recommended",
                                    "2": "76"
                                },
                                {
                                    "0": "25506",
                                    "1": "recommended",
                                    "2": "74"
                                },
                                {
                                    "0": "25506",
                                    "1": "recommended",
                                    "2": "73"
                                },
                                {
                                    "0": "25506",
                                    "1": "recommended",
                                    "2": "71"
                                },
                                {
                                    "0": "25506",
                                    "1": "recommended",
                                    "2": "70"
                                },
                                {
                                    "0": "25506",
                                    "1": "recommended",
                                    "2": "69"
                                },
                                {
                                    "0": "25506",
                                    "1": "recommended",
                                    "2": "68"
                                },
                                {
                                    "0": "25506",
                                    "1": "recommended",
                                    "2": "67"
                                },
                                {
                                    "0": "25506",
                                    "1": "recommended",
                                    "2": "64"
                                },
                                {
                                    "0": "25506",
                                    "1": "recommended",
                                    "2": "63"
                                },
                                {
                                    "0": "25506",
                                    "1": "recommended",
                                    "2": "62"
                                },
                                {
                                    "0": "25506",
                                    "1": "recommended",
                                    "2": "61"
                                },
                                {
                                    "0": "25506",
                                    "1": "recommended",
                                    "2": "60"
                                },
                                {
                                    "0": "25506",
                                    "1": "recommended",
                                    "2": "58"
                                },
                                {
                                    "0": "25506",
                                    "1": "recommended",
                                    "2": "57"
                                },
                                {
                                    "0": "25506",
                                    "1": "recommended",
                                    "2": "56"
                                },
                                {
                                    "0": "25506",
                                    "1": "recommended",
                                    "2": "55"
                                },
                                {
                                    "0": "25506",
                                    "1": "recommended",
                                    "2": "54"
                                },
                                {
                                    "0": "25506",
                                    "1": "recommended",
                                    "2": "53"
                                },
                                {
                                    "0": "25506",
                                    "1": "recommended",
                                    "2": "52"
                                }
                            ]
                        },
                        "text/html": [
                            "<table>",
                            "<tr><th>tag_id</th><th>tag_name</th><th>count</th></tr>",
                            "<tr><td>25506</td><td>recommended</td><td>248</td></tr>",
                            "<tr><td>25506</td><td>recommended</td><td>181</td></tr>",
                            "<tr><td>25506</td><td>recommended</td><td>178</td></tr>",
                            "<tr><td>25506</td><td>recommended</td><td>171</td></tr>",
                            "<tr><td>25506</td><td>recommended</td><td>165</td></tr>",
                            "<tr><td>25506</td><td>recommended</td><td>162</td></tr>",
                            "<tr><td>25506</td><td>recommended</td><td>151</td></tr>",
                            "<tr><td>25506</td><td>recommended</td><td>148</td></tr>",
                            "<tr><td>25506</td><td>recommended</td><td>142</td></tr>",
                            "<tr><td>25506</td><td>recommended</td><td>138</td></tr>",
                            "<tr><td>25506</td><td>recommended</td><td>127</td></tr>",
                            "<tr><td>25506</td><td>recommended</td><td>113</td></tr>",
                            "<tr><td>25506</td><td>recommended</td><td>105</td></tr>",
                            "<tr><td>25506</td><td>recommended</td><td>104</td></tr>",
                            "<tr><td>25506</td><td>recommended</td><td>103</td></tr>",
                            "<tr><td>25506</td><td>recommended</td><td>102</td></tr>",
                            "<tr><td>25506</td><td>recommended</td><td>99</td></tr>",
                            "<tr><td>25506</td><td>recommended</td><td>98</td></tr>",
                            "<tr><td>25506</td><td>recommended</td><td>94</td></tr>",
                            "<tr><td>25506</td><td>recommended</td><td>90</td></tr>",
                            "<tr><td>25506</td><td>recommended</td><td>89</td></tr>",
                            "<tr><td>25506</td><td>recommended</td><td>88</td></tr>",
                            "<tr><td>25506</td><td>recommended</td><td>86</td></tr>",
                            "<tr><td>25506</td><td>recommended</td><td>85</td></tr>",
                            "<tr><td>25506</td><td>recommended</td><td>82</td></tr>",
                            "<tr><td>25506</td><td>recommended</td><td>81</td></tr>",
                            "<tr><td>25506</td><td>recommended</td><td>80</td></tr>",
                            "<tr><td>25506</td><td>recommended</td><td>79</td></tr>",
                            "<tr><td>25506</td><td>recommended</td><td>78</td></tr>",
                            "<tr><td>25506</td><td>recommended</td><td>77</td></tr>",
                            "<tr><td>25506</td><td>recommended</td><td>76</td></tr>",
                            "<tr><td>25506</td><td>recommended</td><td>74</td></tr>",
                            "<tr><td>25506</td><td>recommended</td><td>73</td></tr>",
                            "<tr><td>25506</td><td>recommended</td><td>71</td></tr>",
                            "<tr><td>25506</td><td>recommended</td><td>70</td></tr>",
                            "<tr><td>25506</td><td>recommended</td><td>69</td></tr>",
                            "<tr><td>25506</td><td>recommended</td><td>68</td></tr>",
                            "<tr><td>25506</td><td>recommended</td><td>67</td></tr>",
                            "<tr><td>25506</td><td>recommended</td><td>64</td></tr>",
                            "<tr><td>25506</td><td>recommended</td><td>63</td></tr>",
                            "<tr><td>25506</td><td>recommended</td><td>62</td></tr>",
                            "<tr><td>25506</td><td>recommended</td><td>61</td></tr>",
                            "<tr><td>25506</td><td>recommended</td><td>60</td></tr>",
                            "<tr><td>25506</td><td>recommended</td><td>58</td></tr>",
                            "<tr><td>25506</td><td>recommended</td><td>57</td></tr>",
                            "<tr><td>25506</td><td>recommended</td><td>56</td></tr>",
                            "<tr><td>25506</td><td>recommended</td><td>55</td></tr>",
                            "<tr><td>25506</td><td>recommended</td><td>54</td></tr>",
                            "<tr><td>25506</td><td>recommended</td><td>53</td></tr>",
                            "<tr><td>25506</td><td>recommended</td><td>52</td></tr>",
                            "</table>"
                        ]
                    }
                }
            ],
            "execution_count": 66
        },
        {
            "cell_type": "markdown",
            "source": [
                "### **Summary of event 1:**\n",
                "\n",
                "Double Click to edit."
            ],
            "metadata": {
                "azdata_cell_guid": "3bc72d4c-077b-42d3-9528-9aff8e7b6cf3"
            },
            "attachments": {}
        },
        {
            "cell_type": "code",
            "source": [
                "-- Event 2 Query\n",
                "SELECT TOP 50 t.tag_id, t.tag_name, bt.count\n",
                "FROM BooksDB.dbo.tags AS t\n",
                "INNER JOIN BooksDB.dbo.book_tags AS bt\n",
                "ON t.tag_id = bt.tag_id\n",
                "WHERE t.tag_name LIKE '%recommended%'\n",
                "GROUP by t.tag_id, t.tag_name, bt.count\n",
                "HAVING t.tag_id = 25506\n",
                "ORDER BY bt.count DESC\n",
                "\n",
                ""
            ],
            "metadata": {
                "azdata_cell_guid": "dca0a98f-065f-4b0e-9d93-fcb01cad668c",
                "language": "sql"
            },
            "outputs": [],
            "execution_count": null
        },
        {
            "cell_type": "code",
            "source": [
                ""
            ],
            "metadata": {
                "azdata_cell_guid": "3aaae3a8-eff7-4b37-8970-2d913a67239b",
                "language": "sql"
            },
            "outputs": [],
            "execution_count": null
        },
        {
            "cell_type": "markdown",
            "source": [
                "### **Summary of event 2:**\n",
                "\n",
                "Double Click to edit."
            ],
            "metadata": {
                "azdata_cell_guid": "99d518dc-cd8b-42d6-9a9d-708771c9aa99"
            },
            "attachments": {}
        }
    ]
}