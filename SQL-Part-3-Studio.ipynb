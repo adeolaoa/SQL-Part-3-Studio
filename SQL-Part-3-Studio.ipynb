{
    "metadata": {
        "kernelspec": {
            "name": "SQL",
            "display_name": "SQL",
            "language": "sql"
        },
        "language_info": {
            "name": "sql",
            "version": ""
        },
        "extensions": {
            "azuredatastudio": {
                "version": 1,
                "views": []
            }
        }
    },
    "nbformat_minor": 2,
    "nbformat": 4,
    "cells": [
        {
            "cell_type": "markdown",
            "source": [
                "# SQL Part 3 Studio\n",
                "\n",
                "### Let's practice your SQL quering skills!  For each question, work along in the notebook adding your query and answering the questions. \n",
                "\n",
                "### **DataSet**\n",
                "\n",
                "### <span style=\"font-size: 14px; font-family: -apple-system, BlinkMacSystemFont, sans-serif;\">We will be using the Goodbooks-10k dataset from the exercises in the prep work.&nbsp; Feel free reference your previous notebooks.</span>\n",
                "\n",
                "- The dataset can be found here: [goodbooks-10k](https://www.kaggle.com/zygmunt/goodbooks-10k)\n",
                "- You can access the **BooksDB** in the Launchcode server.\n",
                "\n",
                "### **Business Issue**\n",
                "\n",
                "You are an employee at a small independet bookstore and you have been tasked to increase sales.  You decide to use the BooksDB to find books and themes to highlight in fun promotions throughout each month / season.  We will be starting with March and then you will have a chance to explore another month of your choosing.  We want to come up with a list of events/ promotions to run each month.  If you are looking for ideas to include in your promotions:\n",
                "\n",
                "- [https://www.calendarr.com/united-states/calendar-2022/](https://www.calendarr.com/united-states/calendar-2022/)\n",
                "- [https://www.holidayinsights.com/moreholidays/](https://www.holidayinsights.com/moreholidays/)\n",
                "    - Click on a month and it will take you to a more detailed page"
            ],
            "metadata": {
                "azdata_cell_guid": "b9034d8a-b631-48bf-a895-1012a6ffa784"
            },
            "attachments": {}
        },
        {
            "cell_type": "markdown",
            "source": [
                "## Part 1:  March - Women's History Month, Dr Seuss Day(3/2), National Pie Day3/14, St Patrick's Day (3/17), Season - Spring"
            ],
            "metadata": {
                "azdata_cell_guid": "6e55eb1c-4a14-4076-90d2-95ed17a6309f"
            },
            "attachments": {}
        },
        {
            "cell_type": "markdown",
            "source": [
                "### **Event 1:** Women's History Month\n",
                "\n",
                "Goal: Highlight Popular Womans Authors based on ratings from the Good Reads DB.\n",
                "\n",
                "### **Write a query that returns tag\\_id, the number of times each tag\\_id is used and the tag\\_name.**  \n",
                "\n",
                "### Use the GROUP BY and HAVING clause to narrow your focus.\n",
                "\n",
                "Try multiple keywords, ie woman vs female (female ended up giving better results)"
            ],
            "metadata": {
                "azdata_cell_guid": "d220c097-e9cf-4edd-9abe-312d071217b7"
            },
            "attachments": {}
        },
        {
            "cell_type": "code",
            "source": [
                "-- Solution\n",
                "\n",
                "SELECT TOP 50 t.tag_id, t.tag_name, bt.count\n",
                "FROM BooksDB.dbo.tags AS t\n",
                "INNER JOIN BooksDB.dbo.book_tags AS bt\n",
                "ON t.tag_id = bt.tag_id\n",
                "WHERE t.tag_name LIKE '%women%'\n",
                "GROUP BY  t.tag_id, t.tag_name, bt.count\n",
                "HAVING t.tag_id = 32686\n",
                "ORDER BY bt.count DESC\n",
                "\n",
                "--ORDER BY bt.count DESC\n",
                "\n",
                "SELECT TOP 50 tag_name\n",
                "FROM BooksDB.dbo.tags \n",
                "WHERE tag_name LIKE '%women%'\n",
                "\n",
                "/*\n",
                "SELECT TOP 50  b.authors, b.title, b.average_rating,t.tag_id, t.tag_name, COUNT(t.tag_id)\n",
                "FROM BooksDB.dbo.tags AS t\n",
                "INNER JOIN BooksDB.dbo.books AS b\n",
                "ON bt.tag_id = b.best_book_id\n",
                "WHERE t.tag_name = '%women%'\n",
                "*/\n",
                "/*\n",
                "SELECT TOP 50 bt.tag_id, b.authors, b.title, b.average_rating\n",
                "FROM BooksDB.dbo.book_tags AS bt\n",
                "INNER JOIN BooksDB.dbo.books AS b\n",
                "ON bt.tag_id = b.best_book_id\n",
                "*/\n",
                ""
            ],
            "metadata": {
                "azdata_cell_guid": "e31b9d26-0386-44c7-828e-85f4f06f3ee6",
                "language": "sql",
                "tags": []
            },
            "outputs": [
                {
                    "output_type": "display_data",
                    "data": {
                        "text/html": "(50 rows affected)"
                    },
                    "metadata": {}
                },
                {
                    "output_type": "display_data",
                    "data": {
                        "text/html": "(50 rows affected)"
                    },
                    "metadata": {}
                },
                {
                    "output_type": "display_data",
                    "data": {
                        "text/html": "Total execution time: 00:00:00.188"
                    },
                    "metadata": {}
                },
                {
                    "output_type": "execute_result",
                    "metadata": {},
                    "execution_count": 57,
                    "data": {
                        "application/vnd.dataresource+json": {
                            "schema": {
                                "fields": [
                                    {
                                        "name": "tag_id"
                                    },
                                    {
                                        "name": "tag_name"
                                    },
                                    {
                                        "name": "count"
                                    }
                                ]
                            },
                            "data": [
                                {
                                    "0": "32686",
                                    "1": "women",
                                    "2": "431"
                                },
                                {
                                    "0": "32686",
                                    "1": "women",
                                    "2": "304"
                                },
                                {
                                    "0": "32686",
                                    "1": "women",
                                    "2": "237"
                                },
                                {
                                    "0": "32686",
                                    "1": "women",
                                    "2": "228"
                                },
                                {
                                    "0": "32686",
                                    "1": "women",
                                    "2": "216"
                                },
                                {
                                    "0": "32686",
                                    "1": "women",
                                    "2": "209"
                                },
                                {
                                    "0": "32686",
                                    "1": "women",
                                    "2": "205"
                                },
                                {
                                    "0": "32686",
                                    "1": "women",
                                    "2": "202"
                                },
                                {
                                    "0": "32686",
                                    "1": "women",
                                    "2": "194"
                                },
                                {
                                    "0": "32686",
                                    "1": "women",
                                    "2": "169"
                                },
                                {
                                    "0": "32686",
                                    "1": "women",
                                    "2": "168"
                                },
                                {
                                    "0": "32686",
                                    "1": "women",
                                    "2": "167"
                                },
                                {
                                    "0": "32686",
                                    "1": "women",
                                    "2": "163"
                                },
                                {
                                    "0": "32686",
                                    "1": "women",
                                    "2": "162"
                                },
                                {
                                    "0": "32686",
                                    "1": "women",
                                    "2": "161"
                                },
                                {
                                    "0": "32686",
                                    "1": "women",
                                    "2": "159"
                                },
                                {
                                    "0": "32686",
                                    "1": "women",
                                    "2": "158"
                                },
                                {
                                    "0": "32686",
                                    "1": "women",
                                    "2": "150"
                                },
                                {
                                    "0": "32686",
                                    "1": "women",
                                    "2": "148"
                                },
                                {
                                    "0": "32686",
                                    "1": "women",
                                    "2": "147"
                                },
                                {
                                    "0": "32686",
                                    "1": "women",
                                    "2": "143"
                                },
                                {
                                    "0": "32686",
                                    "1": "women",
                                    "2": "138"
                                },
                                {
                                    "0": "32686",
                                    "1": "women",
                                    "2": "136"
                                },
                                {
                                    "0": "32686",
                                    "1": "women",
                                    "2": "132"
                                },
                                {
                                    "0": "32686",
                                    "1": "women",
                                    "2": "131"
                                },
                                {
                                    "0": "32686",
                                    "1": "women",
                                    "2": "128"
                                },
                                {
                                    "0": "32686",
                                    "1": "women",
                                    "2": "125"
                                },
                                {
                                    "0": "32686",
                                    "1": "women",
                                    "2": "122"
                                },
                                {
                                    "0": "32686",
                                    "1": "women",
                                    "2": "118"
                                },
                                {
                                    "0": "32686",
                                    "1": "women",
                                    "2": "111"
                                },
                                {
                                    "0": "32686",
                                    "1": "women",
                                    "2": "103"
                                },
                                {
                                    "0": "32686",
                                    "1": "women",
                                    "2": "101"
                                },
                                {
                                    "0": "32686",
                                    "1": "women",
                                    "2": "100"
                                },
                                {
                                    "0": "32686",
                                    "1": "women",
                                    "2": "96"
                                },
                                {
                                    "0": "32686",
                                    "1": "women",
                                    "2": "95"
                                },
                                {
                                    "0": "32686",
                                    "1": "women",
                                    "2": "93"
                                },
                                {
                                    "0": "32686",
                                    "1": "women",
                                    "2": "92"
                                },
                                {
                                    "0": "32686",
                                    "1": "women",
                                    "2": "90"
                                },
                                {
                                    "0": "32686",
                                    "1": "women",
                                    "2": "86"
                                },
                                {
                                    "0": "32686",
                                    "1": "women",
                                    "2": "84"
                                },
                                {
                                    "0": "32686",
                                    "1": "women",
                                    "2": "82"
                                },
                                {
                                    "0": "32686",
                                    "1": "women",
                                    "2": "81"
                                },
                                {
                                    "0": "32686",
                                    "1": "women",
                                    "2": "80"
                                },
                                {
                                    "0": "32686",
                                    "1": "women",
                                    "2": "78"
                                },
                                {
                                    "0": "32686",
                                    "1": "women",
                                    "2": "77"
                                },
                                {
                                    "0": "32686",
                                    "1": "women",
                                    "2": "75"
                                },
                                {
                                    "0": "32686",
                                    "1": "women",
                                    "2": "74"
                                },
                                {
                                    "0": "32686",
                                    "1": "women",
                                    "2": "72"
                                },
                                {
                                    "0": "32686",
                                    "1": "women",
                                    "2": "71"
                                },
                                {
                                    "0": "32686",
                                    "1": "women",
                                    "2": "69"
                                }
                            ]
                        },
                        "text/html": [
                            "<table>",
                            "<tr><th>tag_id</th><th>tag_name</th><th>count</th></tr>",
                            "<tr><td>32686</td><td>women</td><td>431</td></tr>",
                            "<tr><td>32686</td><td>women</td><td>304</td></tr>",
                            "<tr><td>32686</td><td>women</td><td>237</td></tr>",
                            "<tr><td>32686</td><td>women</td><td>228</td></tr>",
                            "<tr><td>32686</td><td>women</td><td>216</td></tr>",
                            "<tr><td>32686</td><td>women</td><td>209</td></tr>",
                            "<tr><td>32686</td><td>women</td><td>205</td></tr>",
                            "<tr><td>32686</td><td>women</td><td>202</td></tr>",
                            "<tr><td>32686</td><td>women</td><td>194</td></tr>",
                            "<tr><td>32686</td><td>women</td><td>169</td></tr>",
                            "<tr><td>32686</td><td>women</td><td>168</td></tr>",
                            "<tr><td>32686</td><td>women</td><td>167</td></tr>",
                            "<tr><td>32686</td><td>women</td><td>163</td></tr>",
                            "<tr><td>32686</td><td>women</td><td>162</td></tr>",
                            "<tr><td>32686</td><td>women</td><td>161</td></tr>",
                            "<tr><td>32686</td><td>women</td><td>159</td></tr>",
                            "<tr><td>32686</td><td>women</td><td>158</td></tr>",
                            "<tr><td>32686</td><td>women</td><td>150</td></tr>",
                            "<tr><td>32686</td><td>women</td><td>148</td></tr>",
                            "<tr><td>32686</td><td>women</td><td>147</td></tr>",
                            "<tr><td>32686</td><td>women</td><td>143</td></tr>",
                            "<tr><td>32686</td><td>women</td><td>138</td></tr>",
                            "<tr><td>32686</td><td>women</td><td>136</td></tr>",
                            "<tr><td>32686</td><td>women</td><td>132</td></tr>",
                            "<tr><td>32686</td><td>women</td><td>131</td></tr>",
                            "<tr><td>32686</td><td>women</td><td>128</td></tr>",
                            "<tr><td>32686</td><td>women</td><td>125</td></tr>",
                            "<tr><td>32686</td><td>women</td><td>122</td></tr>",
                            "<tr><td>32686</td><td>women</td><td>118</td></tr>",
                            "<tr><td>32686</td><td>women</td><td>111</td></tr>",
                            "<tr><td>32686</td><td>women</td><td>103</td></tr>",
                            "<tr><td>32686</td><td>women</td><td>101</td></tr>",
                            "<tr><td>32686</td><td>women</td><td>100</td></tr>",
                            "<tr><td>32686</td><td>women</td><td>96</td></tr>",
                            "<tr><td>32686</td><td>women</td><td>95</td></tr>",
                            "<tr><td>32686</td><td>women</td><td>93</td></tr>",
                            "<tr><td>32686</td><td>women</td><td>92</td></tr>",
                            "<tr><td>32686</td><td>women</td><td>90</td></tr>",
                            "<tr><td>32686</td><td>women</td><td>86</td></tr>",
                            "<tr><td>32686</td><td>women</td><td>84</td></tr>",
                            "<tr><td>32686</td><td>women</td><td>82</td></tr>",
                            "<tr><td>32686</td><td>women</td><td>81</td></tr>",
                            "<tr><td>32686</td><td>women</td><td>80</td></tr>",
                            "<tr><td>32686</td><td>women</td><td>78</td></tr>",
                            "<tr><td>32686</td><td>women</td><td>77</td></tr>",
                            "<tr><td>32686</td><td>women</td><td>75</td></tr>",
                            "<tr><td>32686</td><td>women</td><td>74</td></tr>",
                            "<tr><td>32686</td><td>women</td><td>72</td></tr>",
                            "<tr><td>32686</td><td>women</td><td>71</td></tr>",
                            "<tr><td>32686</td><td>women</td><td>69</td></tr>",
                            "</table>"
                        ]
                    }
                },
                {
                    "output_type": "execute_result",
                    "metadata": {},
                    "execution_count": 57,
                    "data": {
                        "application/vnd.dataresource+json": {
                            "schema": {
                                "fields": [
                                    {
                                        "name": "tag_name"
                                    }
                                ]
                            },
                            "data": [
                                {
                                    "0": "1960s-women-s-status"
                                },
                                {
                                    "0": "2017-read-women"
                                },
                                {
                                    "0": "4-women-intertwined-stories"
                                },
                                {
                                    "0": "500-women"
                                },
                                {
                                    "0": "abused-women"
                                },
                                {
                                    "0": "arab-women"
                                },
                                {
                                    "0": "artist-women-bio"
                                },
                                {
                                    "0": "australian-women-writers"
                                },
                                {
                                    "0": "biographies-of-women"
                                },
                                {
                                    "0": "biography-women"
                                },
                                {
                                    "0": "books-by-women"
                                },
                                {
                                    "0": "by-women"
                                },
                                {
                                    "0": "career-women"
                                },
                                {
                                    "0": "chinese-women"
                                },
                                {
                                    "0": "christian-women"
                                },
                                {
                                    "0": "cis-women"
                                },
                                {
                                    "0": "education-for-women"
                                },
                                {
                                    "0": "for-women"
                                },
                                {
                                    "0": "friendship-women"
                                },
                                {
                                    "0": "funny-women"
                                },
                                {
                                    "0": "gutsy-women"
                                },
                                {
                                    "0": "historical-fiction-civil-war-women"
                                },
                                {
                                    "0": "islamic-women"
                                },
                                {
                                    "0": "james-patterson-women-s-murder-cl"
                                },
                                {
                                    "0": "james-patterson-women-s-murder-club"
                                },
                                {
                                    "0": "james-patterson-womens-murder-club"
                                },
                                {
                                    "0": "little-women"
                                },
                                {
                                    "0": "men-women"
                                },
                                {
                                    "0": "men-women-relations"
                                },
                                {
                                    "0": "muslim-women"
                                },
                                {
                                    "0": "own-written-by-women"
                                },
                                {
                                    "0": "patterson-women-s-murder-club"
                                },
                                {
                                    "0": "patterson-womens-murder-club"
                                },
                                {
                                    "0": "pioneer-women"
                                },
                                {
                                    "0": "policewomen"
                                },
                                {
                                    "0": "readwomen2014"
                                },
                                {
                                    "0": "readwomen2016"
                                },
                                {
                                    "0": "series-women-of-the-otherworld"
                                },
                                {
                                    "0": "series-womens-murder-club"
                                },
                                {
                                    "0": "single-women"
                                },
                                {
                                    "0": "strong-women"
                                },
                                {
                                    "0": "the-life-of-women-in-royal-family-o"
                                },
                                {
                                    "0": "women"
                                },
                                {
                                    "0": "women-and-religion"
                                },
                                {
                                    "0": "women-authors"
                                },
                                {
                                    "0": "women-entrepeneurs"
                                },
                                {
                                    "0": "women-feminism"
                                },
                                {
                                    "0": "women-fiction"
                                },
                                {
                                    "0": "women-friends"
                                },
                                {
                                    "0": "women-friendships"
                                }
                            ]
                        },
                        "text/html": [
                            "<table>",
                            "<tr><th>tag_name</th></tr>",
                            "<tr><td>1960s-women-s-status</td></tr>",
                            "<tr><td>2017-read-women</td></tr>",
                            "<tr><td>4-women-intertwined-stories</td></tr>",
                            "<tr><td>500-women</td></tr>",
                            "<tr><td>abused-women</td></tr>",
                            "<tr><td>arab-women</td></tr>",
                            "<tr><td>artist-women-bio</td></tr>",
                            "<tr><td>australian-women-writers</td></tr>",
                            "<tr><td>biographies-of-women</td></tr>",
                            "<tr><td>biography-women</td></tr>",
                            "<tr><td>books-by-women</td></tr>",
                            "<tr><td>by-women</td></tr>",
                            "<tr><td>career-women</td></tr>",
                            "<tr><td>chinese-women</td></tr>",
                            "<tr><td>christian-women</td></tr>",
                            "<tr><td>cis-women</td></tr>",
                            "<tr><td>education-for-women</td></tr>",
                            "<tr><td>for-women</td></tr>",
                            "<tr><td>friendship-women</td></tr>",
                            "<tr><td>funny-women</td></tr>",
                            "<tr><td>gutsy-women</td></tr>",
                            "<tr><td>historical-fiction-civil-war-women</td></tr>",
                            "<tr><td>islamic-women</td></tr>",
                            "<tr><td>james-patterson-women-s-murder-cl</td></tr>",
                            "<tr><td>james-patterson-women-s-murder-club</td></tr>",
                            "<tr><td>james-patterson-womens-murder-club</td></tr>",
                            "<tr><td>little-women</td></tr>",
                            "<tr><td>men-women</td></tr>",
                            "<tr><td>men-women-relations</td></tr>",
                            "<tr><td>muslim-women</td></tr>",
                            "<tr><td>own-written-by-women</td></tr>",
                            "<tr><td>patterson-women-s-murder-club</td></tr>",
                            "<tr><td>patterson-womens-murder-club</td></tr>",
                            "<tr><td>pioneer-women</td></tr>",
                            "<tr><td>policewomen</td></tr>",
                            "<tr><td>readwomen2014</td></tr>",
                            "<tr><td>readwomen2016</td></tr>",
                            "<tr><td>series-women-of-the-otherworld</td></tr>",
                            "<tr><td>series-womens-murder-club</td></tr>",
                            "<tr><td>single-women</td></tr>",
                            "<tr><td>strong-women</td></tr>",
                            "<tr><td>the-life-of-women-in-royal-family-o</td></tr>",
                            "<tr><td>women</td></tr>",
                            "<tr><td>women-and-religion</td></tr>",
                            "<tr><td>women-authors</td></tr>",
                            "<tr><td>women-entrepeneurs</td></tr>",
                            "<tr><td>women-feminism</td></tr>",
                            "<tr><td>women-fiction</td></tr>",
                            "<tr><td>women-friends</td></tr>",
                            "<tr><td>women-friendships</td></tr>",
                            "</table>"
                        ]
                    }
                }
            ],
            "execution_count": 57
        },
        {
            "cell_type": "code",
            "source": [
                "\n",
                "SELECT TOP 50 t.tag_id, t.tag_name, bt.count, r.rating\n",
                "FROM BooksDB.dbo.tags AS t\n",
                "INNER JOIN BooksDB.dbo.book_tags AS bt\n",
                "ON t.tag_id = bt.tag_id\n",
                "INNER JOIN BooksDB.dbo.ratings AS r\n",
                "ON t.tag_id = r.book_id\n",
                "\n",
                "WHERE t.tag_name LIKE '%women%'\n",
                "GROUP BY  t.tag_id, t.tag_name, bt.count\n",
                "HAVING t.tag_id = 32686\n",
                "ORDER BY r.rating DESC\n",
                "\n",
                "--ORDER BY bt.count DESC\n",
                "\n",
                "SELECT TOP 50 tag_name\n",
                "FROM BooksDB.dbo.tags \n",
                "WHERE tag_name LIKE '%women%'\n",
                "\n",
                "/*\n",
                "SELECT TOP 50  b.authors, b.title, b.average_rating,t.tag_id, t.tag_name, COUNT(t.tag_id)\n",
                "FROM BooksDB.dbo.tags AS t\n",
                "INNER JOIN BooksDB.dbo.books AS b\n",
                "ON bt.tag_id = b.best_book_id\n",
                "WHERE t.tag_name = '%women%'\n",
                "*/\n",
                "/*\n",
                "SELECT TOP 50 bt.tag_id, b.authors, b.title, b.average_rating\n",
                "FROM BooksDB.dbo.book_tags AS bt\n",
                "INNER JOIN BooksDB.dbo.books AS b\n",
                "ON bt.tag_id = b.best_book_id\n",
                "*/"
            ],
            "metadata": {
                "azdata_cell_guid": "43419e60-435b-44d8-9d7c-b88927ff47af",
                "language": "sql"
            },
            "outputs": [
                {
                    "output_type": "display_data",
                    "data": {
                        "text/html": "(0 rows affected)"
                    },
                    "metadata": {}
                },
                {
                    "output_type": "display_data",
                    "data": {
                        "text/html": "(50 rows affected)"
                    },
                    "metadata": {}
                },
                {
                    "output_type": "display_data",
                    "data": {
                        "text/html": "Total execution time: 00:00:00.133"
                    },
                    "metadata": {}
                },
                {
                    "output_type": "execute_result",
                    "metadata": {},
                    "execution_count": 47,
                    "data": {
                        "application/vnd.dataresource+json": {
                            "schema": {
                                "fields": [
                                    {
                                        "name": "tag_id"
                                    },
                                    {
                                        "name": "tag_name"
                                    },
                                    {
                                        "name": "tags"
                                    },
                                    {
                                        "name": "average_rating"
                                    }
                                ]
                            },
                            "data": []
                        },
                        "text/html": [
                            "<table>",
                            "<tr><th>tag_id</th><th>tag_name</th><th>tags</th><th>average_rating</th></tr>",
                            "</table>"
                        ]
                    }
                },
                {
                    "output_type": "execute_result",
                    "metadata": {},
                    "execution_count": 47,
                    "data": {
                        "application/vnd.dataresource+json": {
                            "schema": {
                                "fields": [
                                    {
                                        "name": "tag_name"
                                    }
                                ]
                            },
                            "data": [
                                {
                                    "0": "1960s-women-s-status"
                                },
                                {
                                    "0": "2017-read-women"
                                },
                                {
                                    "0": "4-women-intertwined-stories"
                                },
                                {
                                    "0": "500-women"
                                },
                                {
                                    "0": "abused-women"
                                },
                                {
                                    "0": "arab-women"
                                },
                                {
                                    "0": "artist-women-bio"
                                },
                                {
                                    "0": "australian-women-writers"
                                },
                                {
                                    "0": "biographies-of-women"
                                },
                                {
                                    "0": "biography-women"
                                },
                                {
                                    "0": "books-by-women"
                                },
                                {
                                    "0": "by-women"
                                },
                                {
                                    "0": "career-women"
                                },
                                {
                                    "0": "chinese-women"
                                },
                                {
                                    "0": "christian-women"
                                },
                                {
                                    "0": "cis-women"
                                },
                                {
                                    "0": "education-for-women"
                                },
                                {
                                    "0": "for-women"
                                },
                                {
                                    "0": "friendship-women"
                                },
                                {
                                    "0": "funny-women"
                                },
                                {
                                    "0": "gutsy-women"
                                },
                                {
                                    "0": "historical-fiction-civil-war-women"
                                },
                                {
                                    "0": "islamic-women"
                                },
                                {
                                    "0": "james-patterson-women-s-murder-cl"
                                },
                                {
                                    "0": "james-patterson-women-s-murder-club"
                                },
                                {
                                    "0": "james-patterson-womens-murder-club"
                                },
                                {
                                    "0": "little-women"
                                },
                                {
                                    "0": "men-women"
                                },
                                {
                                    "0": "men-women-relations"
                                },
                                {
                                    "0": "muslim-women"
                                },
                                {
                                    "0": "own-written-by-women"
                                },
                                {
                                    "0": "patterson-women-s-murder-club"
                                },
                                {
                                    "0": "patterson-womens-murder-club"
                                },
                                {
                                    "0": "pioneer-women"
                                },
                                {
                                    "0": "policewomen"
                                },
                                {
                                    "0": "readwomen2014"
                                },
                                {
                                    "0": "readwomen2016"
                                },
                                {
                                    "0": "series-women-of-the-otherworld"
                                },
                                {
                                    "0": "series-womens-murder-club"
                                },
                                {
                                    "0": "single-women"
                                },
                                {
                                    "0": "strong-women"
                                },
                                {
                                    "0": "the-life-of-women-in-royal-family-o"
                                },
                                {
                                    "0": "women"
                                },
                                {
                                    "0": "women-and-religion"
                                },
                                {
                                    "0": "women-authors"
                                },
                                {
                                    "0": "women-entrepeneurs"
                                },
                                {
                                    "0": "women-feminism"
                                },
                                {
                                    "0": "women-fiction"
                                },
                                {
                                    "0": "women-friends"
                                },
                                {
                                    "0": "women-friendships"
                                }
                            ]
                        },
                        "text/html": [
                            "<table>",
                            "<tr><th>tag_name</th></tr>",
                            "<tr><td>1960s-women-s-status</td></tr>",
                            "<tr><td>2017-read-women</td></tr>",
                            "<tr><td>4-women-intertwined-stories</td></tr>",
                            "<tr><td>500-women</td></tr>",
                            "<tr><td>abused-women</td></tr>",
                            "<tr><td>arab-women</td></tr>",
                            "<tr><td>artist-women-bio</td></tr>",
                            "<tr><td>australian-women-writers</td></tr>",
                            "<tr><td>biographies-of-women</td></tr>",
                            "<tr><td>biography-women</td></tr>",
                            "<tr><td>books-by-women</td></tr>",
                            "<tr><td>by-women</td></tr>",
                            "<tr><td>career-women</td></tr>",
                            "<tr><td>chinese-women</td></tr>",
                            "<tr><td>christian-women</td></tr>",
                            "<tr><td>cis-women</td></tr>",
                            "<tr><td>education-for-women</td></tr>",
                            "<tr><td>for-women</td></tr>",
                            "<tr><td>friendship-women</td></tr>",
                            "<tr><td>funny-women</td></tr>",
                            "<tr><td>gutsy-women</td></tr>",
                            "<tr><td>historical-fiction-civil-war-women</td></tr>",
                            "<tr><td>islamic-women</td></tr>",
                            "<tr><td>james-patterson-women-s-murder-cl</td></tr>",
                            "<tr><td>james-patterson-women-s-murder-club</td></tr>",
                            "<tr><td>james-patterson-womens-murder-club</td></tr>",
                            "<tr><td>little-women</td></tr>",
                            "<tr><td>men-women</td></tr>",
                            "<tr><td>men-women-relations</td></tr>",
                            "<tr><td>muslim-women</td></tr>",
                            "<tr><td>own-written-by-women</td></tr>",
                            "<tr><td>patterson-women-s-murder-club</td></tr>",
                            "<tr><td>patterson-womens-murder-club</td></tr>",
                            "<tr><td>pioneer-women</td></tr>",
                            "<tr><td>policewomen</td></tr>",
                            "<tr><td>readwomen2014</td></tr>",
                            "<tr><td>readwomen2016</td></tr>",
                            "<tr><td>series-women-of-the-otherworld</td></tr>",
                            "<tr><td>series-womens-murder-club</td></tr>",
                            "<tr><td>single-women</td></tr>",
                            "<tr><td>strong-women</td></tr>",
                            "<tr><td>the-life-of-women-in-royal-family-o</td></tr>",
                            "<tr><td>women</td></tr>",
                            "<tr><td>women-and-religion</td></tr>",
                            "<tr><td>women-authors</td></tr>",
                            "<tr><td>women-entrepeneurs</td></tr>",
                            "<tr><td>women-feminism</td></tr>",
                            "<tr><td>women-fiction</td></tr>",
                            "<tr><td>women-friends</td></tr>",
                            "<tr><td>women-friendships</td></tr>",
                            "</table>"
                        ]
                    }
                }
            ],
            "execution_count": 47
        },
        {
            "cell_type": "markdown",
            "source": [
                "### **Which keyword(s) and tag(s) would you like to explore more?**\n",
                "\n",
                "Men, Thanksgiving"
            ],
            "metadata": {
                "azdata_cell_guid": "e9acd8b5-a62b-4ac0-bd07-19915b379ba6"
            },
            "attachments": {}
        },
        {
            "cell_type": "markdown",
            "source": [
                "### **Write a query to return authors, titles, ratings and** **selected tag(s)\\_id.**"
            ],
            "metadata": {
                "azdata_cell_guid": "59b84464-c0bc-4dac-9e02-0c803765b063"
            },
            "attachments": {}
        },
        {
            "cell_type": "code",
            "source": [
                "-- Solution\n",
                "SELECT TOP 50 bt.tag_id, b.authors, b.title, b.average_rating\n",
                "FROM BooksDB.dbo.book_tags AS bt\n",
                "INNER JOIN BooksDB.dbo.books AS b\n",
                "ON bt.tag_id = b.best_book_id\n",
                "GROUP BY  bt.tag_id, b.authors, b.title, b.average_rating\n",
                ""
            ],
            "metadata": {
                "azdata_cell_guid": "51ffeaaf-6dde-4906-95f3-eb8757babf27",
                "tags": [],
                "language": "sql"
            },
            "outputs": [
                {
                    "output_type": "display_data",
                    "data": {
                        "text/html": "(50 rows affected)"
                    },
                    "metadata": {}
                },
                {
                    "output_type": "display_data",
                    "data": {
                        "text/html": "Total execution time: 00:00:00.277"
                    },
                    "metadata": {}
                },
                {
                    "output_type": "execute_result",
                    "metadata": {},
                    "execution_count": 53,
                    "data": {
                        "application/vnd.dataresource+json": {
                            "schema": {
                                "fields": [
                                    {
                                        "name": "tag_id"
                                    },
                                    {
                                        "name": "authors"
                                    },
                                    {
                                        "name": "title"
                                    },
                                    {
                                        "name": "average_rating"
                                    }
                                ]
                            },
                            "data": [
                                {
                                    "0": "3",
                                    "1": "J.K. Rowling, Mary GrandPré",
                                    "2": "Harry Potter and the Sorcerer's Stone (Harry Potter, #1)",
                                    "3": "4.44"
                                },
                                {
                                    "0": "2657",
                                    "1": "Harper Lee",
                                    "2": "To Kill a Mockingbird",
                                    "3": "4.25"
                                },
                                {
                                    "0": "4671",
                                    "1": "F. Scott Fitzgerald",
                                    "2": "The Great Gatsby",
                                    "3": "3.89"
                                },
                                {
                                    "0": "5907",
                                    "1": "J.R.R. Tolkien",
                                    "2": "The Hobbit",
                                    "3": "4.25"
                                },
                                {
                                    "0": "5107",
                                    "1": "J.D. Salinger",
                                    "2": "The Catcher in the Rye",
                                    "3": "3.79"
                                },
                                {
                                    "0": "960",
                                    "1": "Dan Brown",
                                    "2": "Angels & Demons  (Robert Langdon, #1)",
                                    "3": "3.85"
                                },
                                {
                                    "0": "1885",
                                    "1": "Jane Austen",
                                    "2": "Pride and Prejudice",
                                    "3": "4.24"
                                },
                                {
                                    "0": "5470",
                                    "1": "George Orwell, Erich Fromm, Celâl Üster",
                                    "2": "1984",
                                    "3": "4.14"
                                },
                                {
                                    "0": "7613",
                                    "1": "George Orwell",
                                    "2": "Animal Farm",
                                    "3": "3.87"
                                },
                                {
                                    "0": "5",
                                    "1": "J.K. Rowling, Mary GrandPré, Rufus Beck",
                                    "2": "Harry Potter and the Prisoner of Azkaban (Harry Potter, #3)",
                                    "3": "4.53"
                                },
                                {
                                    "0": "34",
                                    "1": "J.R.R. Tolkien",
                                    "2": "The Fellowship of the Ring (The Lord of the Rings, #1)",
                                    "3": "4.34"
                                },
                                {
                                    "0": "2",
                                    "1": "J.K. Rowling, Mary GrandPré",
                                    "2": "Harry Potter and the Order of the Phoenix (Harry Potter, #5)",
                                    "3": "4.46"
                                },
                                {
                                    "0": "15881",
                                    "1": "J.K. Rowling, Mary GrandPré",
                                    "2": "Harry Potter and the Chamber of Secrets (Harry Potter, #2)",
                                    "3": "4.37"
                                },
                                {
                                    "0": "6",
                                    "1": "J.K. Rowling, Mary GrandPré",
                                    "2": "Harry Potter and the Goblet of Fire (Harry Potter, #4)",
                                    "3": "4.53"
                                },
                                {
                                    "0": "968",
                                    "1": "Dan Brown",
                                    "2": "The Da Vinci Code (Robert Langdon, #2)",
                                    "3": "3.79"
                                },
                                {
                                    "0": "1",
                                    "1": "J.K. Rowling, Mary GrandPré",
                                    "2": "Harry Potter and the Half-Blood Prince (Harry Potter, #6)",
                                    "3": "4.54"
                                },
                                {
                                    "0": "7624",
                                    "1": "William Golding",
                                    "2": "Lord of the Flies",
                                    "3": "3.64"
                                },
                                {
                                    "0": "18135",
                                    "1": "William Shakespeare, Robert           Jackson",
                                    "2": "Romeo and Juliet",
                                    "3": "3.73"
                                },
                                {
                                    "0": "890",
                                    "1": "John Steinbeck",
                                    "2": "Of Mice and Men",
                                    "3": "3.84"
                                },
                                {
                                    "0": "929",
                                    "1": "Arthur Golden",
                                    "2": "Memoirs of a Geisha",
                                    "3": "4.08"
                                },
                                {
                                    "0": "865",
                                    "1": "Paulo Coelho, Alan R. Clarke",
                                    "2": "The Alchemist",
                                    "3": "3.82"
                                },
                                {
                                    "0": "3636",
                                    "1": "Lois Lowry",
                                    "2": "The Giver (The Giver, #1)",
                                    "3": "4.12"
                                },
                                {
                                    "0": "13496",
                                    "1": "George R.R. Martin",
                                    "2": "A Game of Thrones (A Song of Ice and Fire, #1)",
                                    "3": "4.45"
                                },
                                {
                                    "0": "19501",
                                    "1": "Elizabeth Gilbert",
                                    "2": "Eat, Pray, Love",
                                    "3": "3.51"
                                },
                                {
                                    "0": "28187",
                                    "1": "Rick Riordan",
                                    "2": "The Lightning Thief (Percy Jackson and the Olympians, #1)",
                                    "3": "4.23"
                                },
                                {
                                    "0": "1934",
                                    "1": "Louisa May Alcott",
                                    "2": "Little Women (Little Women, #1)",
                                    "3": "4.04"
                                },
                                {
                                    "0": "10210",
                                    "1": "Charlotte Brontë, Michael Mason",
                                    "2": "Jane Eyre",
                                    "3": "4.1"
                                },
                                {
                                    "0": "15931",
                                    "1": "Nicholas Sparks",
                                    "2": "The Notebook (The Notebook, #1)",
                                    "3": "4.06"
                                },
                                {
                                    "0": "4214",
                                    "1": "Yann Martel",
                                    "2": "Life of Pi",
                                    "3": "3.88"
                                },
                                {
                                    "0": "19063",
                                    "1": "Markus Zusak",
                                    "2": "The Book Thief",
                                    "3": "4.36"
                                },
                                {
                                    "0": "4381",
                                    "1": "Ray Bradbury",
                                    "2": "Fahrenheit 451",
                                    "3": "3.97"
                                },
                                {
                                    "0": "30119",
                                    "1": "Shel Silverstein",
                                    "2": "Where the Sidewalk Ends",
                                    "3": "4.29"
                                },
                                {
                                    "0": "5129",
                                    "1": "Aldous Huxley",
                                    "2": "Brave New World",
                                    "3": "3.97"
                                },
                                {
                                    "0": "2956",
                                    "1": "Mark Twain, John Seelye, Guy Cardwell",
                                    "2": "The Adventures of Huckleberry Finn",
                                    "3": "3.8"
                                },
                                {
                                    "0": "24178",
                                    "1": "E.B. White, Garth Williams, Rosemary Wells",
                                    "2": "Charlotte's Web",
                                    "3": "4.15"
                                },
                                {
                                    "0": "1618",
                                    "1": "Mark Haddon",
                                    "2": "The Curious Incident of the Dog in the Night-Time",
                                    "3": "3.85"
                                },
                                {
                                    "0": "6185",
                                    "1": "Emily Brontë, Richard J. Dunn",
                                    "2": "Wuthering Heights",
                                    "3": "3.82"
                                },
                                {
                                    "0": "10917",
                                    "1": "Jodi Picoult",
                                    "2": "My Sister's Keeper",
                                    "3": "4.06"
                                },
                                {
                                    "0": "4981",
                                    "1": "Kurt Vonnegut Jr.",
                                    "2": "Slaughterhouse-Five",
                                    "3": "4.06"
                                },
                                {
                                    "0": "18405",
                                    "1": "Margaret Mitchell",
                                    "2": "Gone with the Wind",
                                    "3": "4.28"
                                },
                                {
                                    "0": "22628",
                                    "1": "Stephen Chbosky",
                                    "2": "The Perks of Being a Wallflower",
                                    "3": "4.21"
                                },
                                {
                                    "0": "18490",
                                    "1": "Mary Wollstonecraft Shelley, Percy Bysshe Shelley, Maurice Hindle",
                                    "2": "Frankenstein",
                                    "3": "3.75"
                                },
                                {
                                    "0": "11588",
                                    "1": "Stephen King",
                                    "2": "The Shining (The Shining #1)",
                                    "3": "4.17"
                                },
                                {
                                    "0": "14935",
                                    "1": "Jane Austen, Tony Tanner, Ros Ballaster",
                                    "2": "Sense and Sensibility",
                                    "3": "4.06"
                                },
                                {
                                    "0": "23966",
                                    "1": "Irvine Welsh",
                                    "2": "Filth",
                                    "3": "3.76"
                                },
                                {
                                    "0": "5139",
                                    "1": "Lauren Weisberger",
                                    "2": "The Devil Wears Prada (The Devil Wears Prada, #1)",
                                    "3": "3.7"
                                },
                                {
                                    "0": "1381",
                                    "1": "Homer, Robert Fagles, E.V. Rieu, Frédéric Mugler, Bernard Knox",
                                    "2": "The Odyssey",
                                    "3": "3.73"
                                },
                                {
                                    "0": "7445",
                                    "1": "Jeannette Walls",
                                    "2": "The Glass Castle",
                                    "3": "4.24"
                                },
                                {
                                    "0": "1845",
                                    "1": "Jon Krakauer",
                                    "2": "Into the Wild",
                                    "3": "3.94"
                                },
                                {
                                    "0": "1953",
                                    "1": "Charles Dickens, Richard Maxwell, Hablot Knight Browne",
                                    "2": "A Tale of Two Cities",
                                    "3": "3.81"
                                }
                            ]
                        },
                        "text/html": [
                            "<table>",
                            "<tr><th>tag_id</th><th>authors</th><th>title</th><th>average_rating</th></tr>",
                            "<tr><td>3</td><td>J.K. Rowling, Mary GrandPré</td><td>Harry Potter and the Sorcerer's Stone (Harry Potter, #1)</td><td>4.44</td></tr>",
                            "<tr><td>2657</td><td>Harper Lee</td><td>To Kill a Mockingbird</td><td>4.25</td></tr>",
                            "<tr><td>4671</td><td>F. Scott Fitzgerald</td><td>The Great Gatsby</td><td>3.89</td></tr>",
                            "<tr><td>5907</td><td>J.R.R. Tolkien</td><td>The Hobbit</td><td>4.25</td></tr>",
                            "<tr><td>5107</td><td>J.D. Salinger</td><td>The Catcher in the Rye</td><td>3.79</td></tr>",
                            "<tr><td>960</td><td>Dan Brown</td><td>Angels &amp; Demons  (Robert Langdon, #1)</td><td>3.85</td></tr>",
                            "<tr><td>1885</td><td>Jane Austen</td><td>Pride and Prejudice</td><td>4.24</td></tr>",
                            "<tr><td>5470</td><td>George Orwell, Erich Fromm, Celâl Üster</td><td>1984</td><td>4.14</td></tr>",
                            "<tr><td>7613</td><td>George Orwell</td><td>Animal Farm</td><td>3.87</td></tr>",
                            "<tr><td>5</td><td>J.K. Rowling, Mary GrandPré, Rufus Beck</td><td>Harry Potter and the Prisoner of Azkaban (Harry Potter, #3)</td><td>4.53</td></tr>",
                            "<tr><td>34</td><td>J.R.R. Tolkien</td><td>The Fellowship of the Ring (The Lord of the Rings, #1)</td><td>4.34</td></tr>",
                            "<tr><td>2</td><td>J.K. Rowling, Mary GrandPré</td><td>Harry Potter and the Order of the Phoenix (Harry Potter, #5)</td><td>4.46</td></tr>",
                            "<tr><td>15881</td><td>J.K. Rowling, Mary GrandPré</td><td>Harry Potter and the Chamber of Secrets (Harry Potter, #2)</td><td>4.37</td></tr>",
                            "<tr><td>6</td><td>J.K. Rowling, Mary GrandPré</td><td>Harry Potter and the Goblet of Fire (Harry Potter, #4)</td><td>4.53</td></tr>",
                            "<tr><td>968</td><td>Dan Brown</td><td>The Da Vinci Code (Robert Langdon, #2)</td><td>3.79</td></tr>",
                            "<tr><td>1</td><td>J.K. Rowling, Mary GrandPré</td><td>Harry Potter and the Half-Blood Prince (Harry Potter, #6)</td><td>4.54</td></tr>",
                            "<tr><td>7624</td><td>William Golding</td><td>Lord of the Flies</td><td>3.64</td></tr>",
                            "<tr><td>18135</td><td>William Shakespeare, Robert           Jackson</td><td>Romeo and Juliet</td><td>3.73</td></tr>",
                            "<tr><td>890</td><td>John Steinbeck</td><td>Of Mice and Men</td><td>3.84</td></tr>",
                            "<tr><td>929</td><td>Arthur Golden</td><td>Memoirs of a Geisha</td><td>4.08</td></tr>",
                            "<tr><td>865</td><td>Paulo Coelho, Alan R. Clarke</td><td>The Alchemist</td><td>3.82</td></tr>",
                            "<tr><td>3636</td><td>Lois Lowry</td><td>The Giver (The Giver, #1)</td><td>4.12</td></tr>",
                            "<tr><td>13496</td><td>George R.R. Martin</td><td>A Game of Thrones (A Song of Ice and Fire, #1)</td><td>4.45</td></tr>",
                            "<tr><td>19501</td><td>Elizabeth Gilbert</td><td>Eat, Pray, Love</td><td>3.51</td></tr>",
                            "<tr><td>28187</td><td>Rick Riordan</td><td>The Lightning Thief (Percy Jackson and the Olympians, #1)</td><td>4.23</td></tr>",
                            "<tr><td>1934</td><td>Louisa May Alcott</td><td>Little Women (Little Women, #1)</td><td>4.04</td></tr>",
                            "<tr><td>10210</td><td>Charlotte Brontë, Michael Mason</td><td>Jane Eyre</td><td>4.1</td></tr>",
                            "<tr><td>15931</td><td>Nicholas Sparks</td><td>The Notebook (The Notebook, #1)</td><td>4.06</td></tr>",
                            "<tr><td>4214</td><td>Yann Martel</td><td>Life of Pi</td><td>3.88</td></tr>",
                            "<tr><td>19063</td><td>Markus Zusak</td><td>The Book Thief</td><td>4.36</td></tr>",
                            "<tr><td>4381</td><td>Ray Bradbury</td><td>Fahrenheit 451</td><td>3.97</td></tr>",
                            "<tr><td>30119</td><td>Shel Silverstein</td><td>Where the Sidewalk Ends</td><td>4.29</td></tr>",
                            "<tr><td>5129</td><td>Aldous Huxley</td><td>Brave New World</td><td>3.97</td></tr>",
                            "<tr><td>2956</td><td>Mark Twain, John Seelye, Guy Cardwell</td><td>The Adventures of Huckleberry Finn</td><td>3.8</td></tr>",
                            "<tr><td>24178</td><td>E.B. White, Garth Williams, Rosemary Wells</td><td>Charlotte's Web</td><td>4.15</td></tr>",
                            "<tr><td>1618</td><td>Mark Haddon</td><td>The Curious Incident of the Dog in the Night-Time</td><td>3.85</td></tr>",
                            "<tr><td>6185</td><td>Emily Brontë, Richard J. Dunn</td><td>Wuthering Heights</td><td>3.82</td></tr>",
                            "<tr><td>10917</td><td>Jodi Picoult</td><td>My Sister's Keeper</td><td>4.06</td></tr>",
                            "<tr><td>4981</td><td>Kurt Vonnegut Jr.</td><td>Slaughterhouse-Five</td><td>4.06</td></tr>",
                            "<tr><td>18405</td><td>Margaret Mitchell</td><td>Gone with the Wind</td><td>4.28</td></tr>",
                            "<tr><td>22628</td><td>Stephen Chbosky</td><td>The Perks of Being a Wallflower</td><td>4.21</td></tr>",
                            "<tr><td>18490</td><td>Mary Wollstonecraft Shelley, Percy Bysshe Shelley, Maurice Hindle</td><td>Frankenstein</td><td>3.75</td></tr>",
                            "<tr><td>11588</td><td>Stephen King</td><td>The Shining (The Shining #1)</td><td>4.17</td></tr>",
                            "<tr><td>14935</td><td>Jane Austen, Tony Tanner, Ros Ballaster</td><td>Sense and Sensibility</td><td>4.06</td></tr>",
                            "<tr><td>23966</td><td>Irvine Welsh</td><td>Filth</td><td>3.76</td></tr>",
                            "<tr><td>5139</td><td>Lauren Weisberger</td><td>The Devil Wears Prada (The Devil Wears Prada, #1)</td><td>3.7</td></tr>",
                            "<tr><td>1381</td><td>Homer, Robert Fagles, E.V. Rieu, Frédéric Mugler, Bernard Knox</td><td>The Odyssey</td><td>3.73</td></tr>",
                            "<tr><td>7445</td><td>Jeannette Walls</td><td>The Glass Castle</td><td>4.24</td></tr>",
                            "<tr><td>1845</td><td>Jon Krakauer</td><td>Into the Wild</td><td>3.94</td></tr>",
                            "<tr><td>1953</td><td>Charles Dickens, Richard Maxwell, Hablot Knight Browne</td><td>A Tale of Two Cities</td><td>3.81</td></tr>",
                            "</table>"
                        ]
                    }
                }
            ],
            "execution_count": 53
        },
        {
            "cell_type": "markdown",
            "source": [
                "### **Record your thoughts about why you wrote the query the way you did.**"
            ],
            "metadata": {
                "azdata_cell_guid": "1e19a72c-1bca-446b-a0c7-a8efbc35dcf1"
            },
            "attachments": {}
        },
        {
            "cell_type": "markdown",
            "source": [
                "# Part 2: Choose Another Month\n",
                "\n",
                "Choose another month and plan at least 2 events / promotions and answer the following questions.\n",
                "\n",
                "Which month did you choose?  November\n",
                "\n",
                "What 2 events / promotions are you highlighting?\n",
                "\n",
                "> 1. Thanksgiving\n",
                "\n",
                "> 2. Haloween"
            ],
            "metadata": {
                "azdata_cell_guid": "3eaf376d-9de3-4553-a9d0-9caf74ee3d6a"
            },
            "attachments": {}
        },
        {
            "cell_type": "markdown",
            "source": [
                "# Part 3: Summarize your Work\n",
                "\n",
                "For each event write at least one query that joins any two tables in the BooksDB to support your choice and record you thoughts as to why you used the paticlular query. At least one of your queries needs to include a HAVING clause."
            ],
            "metadata": {
                "azdata_cell_guid": "1ba1363a-4f02-4962-a95a-93b80c5926b1"
            },
            "attachments": {}
        },
        {
            "cell_type": "code",
            "source": [
                "-- Event 1 Query\n",
                "\n",
                "SELECT TOP 50 t.tag_id, t.tag_name, bt.count\n",
                "FROM BooksDB.dbo.tags AS t\n",
                "INNER JOIN BooksDB.dbo.book_tags AS bt\n",
                "ON t.tag_id = bt.tag_id\n",
                "WHERE t.tag_name LIKE '%thanksgiving%'\n",
                "GROUP by t.tag_id, t.tag_name, bt.count\n",
                "HAVING t.tag_id = 29599\n",
                "ORDER BY bt.count DESC\n",
                "\n",
                "\n",
                ""
            ],
            "metadata": {
                "azdata_cell_guid": "f50d32ce-4cb2-4af2-acb1-607777a76cf8",
                "language": "sql"
            },
            "outputs": [
                {
                    "output_type": "display_data",
                    "data": {
                        "text/html": "(3 rows affected)"
                    },
                    "metadata": {}
                },
                {
                    "output_type": "display_data",
                    "data": {
                        "text/html": "Total execution time: 00:00:00.168"
                    },
                    "metadata": {}
                },
                {
                    "output_type": "execute_result",
                    "metadata": {},
                    "execution_count": 71,
                    "data": {
                        "application/vnd.dataresource+json": {
                            "schema": {
                                "fields": [
                                    {
                                        "name": "tag_id"
                                    },
                                    {
                                        "name": "tag_name"
                                    },
                                    {
                                        "name": "count"
                                    }
                                ]
                            },
                            "data": [
                                {
                                    "0": "29599",
                                    "1": "thanksgiving",
                                    "2": "8"
                                },
                                {
                                    "0": "29599",
                                    "1": "thanksgiving",
                                    "2": "6"
                                },
                                {
                                    "0": "29599",
                                    "1": "thanksgiving",
                                    "2": "1"
                                }
                            ]
                        },
                        "text/html": [
                            "<table>",
                            "<tr><th>tag_id</th><th>tag_name</th><th>count</th></tr>",
                            "<tr><td>29599</td><td>thanksgiving</td><td>8</td></tr>",
                            "<tr><td>29599</td><td>thanksgiving</td><td>6</td></tr>",
                            "<tr><td>29599</td><td>thanksgiving</td><td>1</td></tr>",
                            "</table>"
                        ]
                    }
                }
            ],
            "execution_count": 71
        },
        {
            "cell_type": "code",
            "source": [
                "\n",
                "SELECT TOP 50 t.tag_id, t.tag_name, bt.count\n",
                "FROM BooksDB.dbo.tags AS t\n",
                "INNER JOIN BooksDB.dbo.book_tags AS bt\n",
                "ON t.tag_id = bt.tag_id\n",
                "WHERE t.tag_name LIKE '%recommended%'\n",
                "GROUP by t.tag_id, t.tag_name, bt.count\n",
                "HAVING t.tag_id = 25506\n",
                "ORDER BY bt.count DESC\n",
                "\n",
                ""
            ],
            "metadata": {
                "azdata_cell_guid": "5606f7f2-c46b-42d3-ac64-7ae21c3394f8",
                "language": "sql"
            },
            "outputs": [
                {
                    "output_type": "display_data",
                    "data": {
                        "text/html": "(50 rows affected)"
                    },
                    "metadata": {}
                },
                {
                    "output_type": "display_data",
                    "data": {
                        "text/html": "Total execution time: 00:00:00.172"
                    },
                    "metadata": {}
                },
                {
                    "output_type": "execute_result",
                    "metadata": {},
                    "execution_count": 66,
                    "data": {
                        "application/vnd.dataresource+json": {
                            "schema": {
                                "fields": [
                                    {
                                        "name": "tag_id"
                                    },
                                    {
                                        "name": "tag_name"
                                    },
                                    {
                                        "name": "count"
                                    }
                                ]
                            },
                            "data": [
                                {
                                    "0": "25506",
                                    "1": "recommended",
                                    "2": "248"
                                },
                                {
                                    "0": "25506",
                                    "1": "recommended",
                                    "2": "181"
                                },
                                {
                                    "0": "25506",
                                    "1": "recommended",
                                    "2": "178"
                                },
                                {
                                    "0": "25506",
                                    "1": "recommended",
                                    "2": "171"
                                },
                                {
                                    "0": "25506",
                                    "1": "recommended",
                                    "2": "165"
                                },
                                {
                                    "0": "25506",
                                    "1": "recommended",
                                    "2": "162"
                                },
                                {
                                    "0": "25506",
                                    "1": "recommended",
                                    "2": "151"
                                },
                                {
                                    "0": "25506",
                                    "1": "recommended",
                                    "2": "148"
                                },
                                {
                                    "0": "25506",
                                    "1": "recommended",
                                    "2": "142"
                                },
                                {
                                    "0": "25506",
                                    "1": "recommended",
                                    "2": "138"
                                },
                                {
                                    "0": "25506",
                                    "1": "recommended",
                                    "2": "127"
                                },
                                {
                                    "0": "25506",
                                    "1": "recommended",
                                    "2": "113"
                                },
                                {
                                    "0": "25506",
                                    "1": "recommended",
                                    "2": "105"
                                },
                                {
                                    "0": "25506",
                                    "1": "recommended",
                                    "2": "104"
                                },
                                {
                                    "0": "25506",
                                    "1": "recommended",
                                    "2": "103"
                                },
                                {
                                    "0": "25506",
                                    "1": "recommended",
                                    "2": "102"
                                },
                                {
                                    "0": "25506",
                                    "1": "recommended",
                                    "2": "99"
                                },
                                {
                                    "0": "25506",
                                    "1": "recommended",
                                    "2": "98"
                                },
                                {
                                    "0": "25506",
                                    "1": "recommended",
                                    "2": "94"
                                },
                                {
                                    "0": "25506",
                                    "1": "recommended",
                                    "2": "90"
                                },
                                {
                                    "0": "25506",
                                    "1": "recommended",
                                    "2": "89"
                                },
                                {
                                    "0": "25506",
                                    "1": "recommended",
                                    "2": "88"
                                },
                                {
                                    "0": "25506",
                                    "1": "recommended",
                                    "2": "86"
                                },
                                {
                                    "0": "25506",
                                    "1": "recommended",
                                    "2": "85"
                                },
                                {
                                    "0": "25506",
                                    "1": "recommended",
                                    "2": "82"
                                },
                                {
                                    "0": "25506",
                                    "1": "recommended",
                                    "2": "81"
                                },
                                {
                                    "0": "25506",
                                    "1": "recommended",
                                    "2": "80"
                                },
                                {
                                    "0": "25506",
                                    "1": "recommended",
                                    "2": "79"
                                },
                                {
                                    "0": "25506",
                                    "1": "recommended",
                                    "2": "78"
                                },
                                {
                                    "0": "25506",
                                    "1": "recommended",
                                    "2": "77"
                                },
                                {
                                    "0": "25506",
                                    "1": "recommended",
                                    "2": "76"
                                },
                                {
                                    "0": "25506",
                                    "1": "recommended",
                                    "2": "74"
                                },
                                {
                                    "0": "25506",
                                    "1": "recommended",
                                    "2": "73"
                                },
                                {
                                    "0": "25506",
                                    "1": "recommended",
                                    "2": "71"
                                },
                                {
                                    "0": "25506",
                                    "1": "recommended",
                                    "2": "70"
                                },
                                {
                                    "0": "25506",
                                    "1": "recommended",
                                    "2": "69"
                                },
                                {
                                    "0": "25506",
                                    "1": "recommended",
                                    "2": "68"
                                },
                                {
                                    "0": "25506",
                                    "1": "recommended",
                                    "2": "67"
                                },
                                {
                                    "0": "25506",
                                    "1": "recommended",
                                    "2": "64"
                                },
                                {
                                    "0": "25506",
                                    "1": "recommended",
                                    "2": "63"
                                },
                                {
                                    "0": "25506",
                                    "1": "recommended",
                                    "2": "62"
                                },
                                {
                                    "0": "25506",
                                    "1": "recommended",
                                    "2": "61"
                                },
                                {
                                    "0": "25506",
                                    "1": "recommended",
                                    "2": "60"
                                },
                                {
                                    "0": "25506",
                                    "1": "recommended",
                                    "2": "58"
                                },
                                {
                                    "0": "25506",
                                    "1": "recommended",
                                    "2": "57"
                                },
                                {
                                    "0": "25506",
                                    "1": "recommended",
                                    "2": "56"
                                },
                                {
                                    "0": "25506",
                                    "1": "recommended",
                                    "2": "55"
                                },
                                {
                                    "0": "25506",
                                    "1": "recommended",
                                    "2": "54"
                                },
                                {
                                    "0": "25506",
                                    "1": "recommended",
                                    "2": "53"
                                },
                                {
                                    "0": "25506",
                                    "1": "recommended",
                                    "2": "52"
                                }
                            ]
                        },
                        "text/html": [
                            "<table>",
                            "<tr><th>tag_id</th><th>tag_name</th><th>count</th></tr>",
                            "<tr><td>25506</td><td>recommended</td><td>248</td></tr>",
                            "<tr><td>25506</td><td>recommended</td><td>181</td></tr>",
                            "<tr><td>25506</td><td>recommended</td><td>178</td></tr>",
                            "<tr><td>25506</td><td>recommended</td><td>171</td></tr>",
                            "<tr><td>25506</td><td>recommended</td><td>165</td></tr>",
                            "<tr><td>25506</td><td>recommended</td><td>162</td></tr>",
                            "<tr><td>25506</td><td>recommended</td><td>151</td></tr>",
                            "<tr><td>25506</td><td>recommended</td><td>148</td></tr>",
                            "<tr><td>25506</td><td>recommended</td><td>142</td></tr>",
                            "<tr><td>25506</td><td>recommended</td><td>138</td></tr>",
                            "<tr><td>25506</td><td>recommended</td><td>127</td></tr>",
                            "<tr><td>25506</td><td>recommended</td><td>113</td></tr>",
                            "<tr><td>25506</td><td>recommended</td><td>105</td></tr>",
                            "<tr><td>25506</td><td>recommended</td><td>104</td></tr>",
                            "<tr><td>25506</td><td>recommended</td><td>103</td></tr>",
                            "<tr><td>25506</td><td>recommended</td><td>102</td></tr>",
                            "<tr><td>25506</td><td>recommended</td><td>99</td></tr>",
                            "<tr><td>25506</td><td>recommended</td><td>98</td></tr>",
                            "<tr><td>25506</td><td>recommended</td><td>94</td></tr>",
                            "<tr><td>25506</td><td>recommended</td><td>90</td></tr>",
                            "<tr><td>25506</td><td>recommended</td><td>89</td></tr>",
                            "<tr><td>25506</td><td>recommended</td><td>88</td></tr>",
                            "<tr><td>25506</td><td>recommended</td><td>86</td></tr>",
                            "<tr><td>25506</td><td>recommended</td><td>85</td></tr>",
                            "<tr><td>25506</td><td>recommended</td><td>82</td></tr>",
                            "<tr><td>25506</td><td>recommended</td><td>81</td></tr>",
                            "<tr><td>25506</td><td>recommended</td><td>80</td></tr>",
                            "<tr><td>25506</td><td>recommended</td><td>79</td></tr>",
                            "<tr><td>25506</td><td>recommended</td><td>78</td></tr>",
                            "<tr><td>25506</td><td>recommended</td><td>77</td></tr>",
                            "<tr><td>25506</td><td>recommended</td><td>76</td></tr>",
                            "<tr><td>25506</td><td>recommended</td><td>74</td></tr>",
                            "<tr><td>25506</td><td>recommended</td><td>73</td></tr>",
                            "<tr><td>25506</td><td>recommended</td><td>71</td></tr>",
                            "<tr><td>25506</td><td>recommended</td><td>70</td></tr>",
                            "<tr><td>25506</td><td>recommended</td><td>69</td></tr>",
                            "<tr><td>25506</td><td>recommended</td><td>68</td></tr>",
                            "<tr><td>25506</td><td>recommended</td><td>67</td></tr>",
                            "<tr><td>25506</td><td>recommended</td><td>64</td></tr>",
                            "<tr><td>25506</td><td>recommended</td><td>63</td></tr>",
                            "<tr><td>25506</td><td>recommended</td><td>62</td></tr>",
                            "<tr><td>25506</td><td>recommended</td><td>61</td></tr>",
                            "<tr><td>25506</td><td>recommended</td><td>60</td></tr>",
                            "<tr><td>25506</td><td>recommended</td><td>58</td></tr>",
                            "<tr><td>25506</td><td>recommended</td><td>57</td></tr>",
                            "<tr><td>25506</td><td>recommended</td><td>56</td></tr>",
                            "<tr><td>25506</td><td>recommended</td><td>55</td></tr>",
                            "<tr><td>25506</td><td>recommended</td><td>54</td></tr>",
                            "<tr><td>25506</td><td>recommended</td><td>53</td></tr>",
                            "<tr><td>25506</td><td>recommended</td><td>52</td></tr>",
                            "</table>"
                        ]
                    }
                }
            ],
            "execution_count": 66
        },
        {
            "cell_type": "markdown",
            "source": [
                "### **Summary of event 1:**\n",
                "\n",
                "Double Click to edit."
            ],
            "metadata": {
                "azdata_cell_guid": "3bc72d4c-077b-42d3-9528-9aff8e7b6cf3"
            },
            "attachments": {}
        },
        {
            "cell_type": "code",
            "source": [
                "-- Event 2 Query\n",
                "SELECT TOP 50 t.tag_id, t.tag_name, bt.count\n",
                "FROM BooksDB.dbo.tags AS t\n",
                "INNER JOIN BooksDB.dbo.book_tags AS bt\n",
                "ON t.tag_id = bt.tag_id\n",
                "WHERE t.tag_name LIKE '%recommended%'\n",
                "GROUP by t.tag_id, t.tag_name, bt.count\n",
                "HAVING t.tag_id = 25506\n",
                "ORDER BY bt.count DESC\n",
                "\n",
                ""
            ],
            "metadata": {
                "azdata_cell_guid": "dca0a98f-065f-4b0e-9d93-fcb01cad668c",
                "language": "sql"
            },
            "outputs": [],
            "execution_count": null
        },
        {
            "cell_type": "code",
            "source": [
                ""
            ],
            "metadata": {
                "azdata_cell_guid": "3aaae3a8-eff7-4b37-8970-2d913a67239b",
                "language": "sql"
            },
            "outputs": [],
            "execution_count": null
        },
        {
            "cell_type": "markdown",
            "source": [
                "### **Summary of event 2:**\n",
                "\n",
                "Double Click to edit."
            ],
            "metadata": {
                "azdata_cell_guid": "99d518dc-cd8b-42d6-9a9d-708771c9aa99"
            },
            "attachments": {}
        }
    ]
}